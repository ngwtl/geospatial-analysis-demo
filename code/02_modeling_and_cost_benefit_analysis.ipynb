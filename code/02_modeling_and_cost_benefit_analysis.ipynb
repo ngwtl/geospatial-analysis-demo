{
 "cells": [
  {
   "cell_type": "markdown",
   "metadata": {},
   "source": [
    "# Project 4: West Nile Virus Classification\n",
    "---\n",
    "   Leonard | Melvin | Pallavi\n",
    "    \n",
    "---\n",
    "\n",
    "## Notebook 02: Modeling and Cost Benefit Analysis"
   ]
  },
  {
   "cell_type": "markdown",
   "metadata": {},
   "source": [
    "### Contents:\n",
    "- [Pre-Processing](#Pre-Processing)\n",
    "- [One-Hot-Encoding](#One-Hot-Encoding)\n",
    "- [Modeling](#Modeling)\n",
    "    - [Hyperparameter Tuning](#Hyperparameter-Tuning)\n",
    "        - [Logistic Regression](#Logistic-Regression)\n",
    "        - [K-nearest Neighbors](#K-nearest-Neighbors)\n",
    "        - [Random Forest](#Random-Forest)\n",
    "        - [Support Vector Classification](#Support-Vector-Classification)\n",
    "        - [XGBoost](#XGBoost)\n",
    "    - [Learning Algorithm Selection](#Learning-Algorithm-Selection)\n",
    "- [Final Model](#Final-Model)\n",
    "- [Kaggle Submission](#Kaggle-Submission)\n",
    "- [Cost-Benefit Analysis of Spray operations](#Cost-Benefit-Analysis-of-Spray-operations)\n",
    "    - [Cost of spraying operations](#Cost-of-spraying-operations)\n",
    "    - [Benefits of spraying operations](#Benefits-of-spraying-operations)\n",
    "- [Summary and Recommendations](#Summary-and-Recommendations)"
   ]
  },
  {
   "cell_type": "code",
   "execution_count": 2,
   "metadata": {},
   "outputs": [],
   "source": [
    "import matplotlib.pyplot as plt\n",
    "import pandas as pd\n",
    "import numpy as np\n",
    "\n",
    "from sklearn.pipeline import Pipeline\n",
    "from sklearn.preprocessing import StandardScaler\n",
    "from sklearn.linear_model import LogisticRegression\n",
    "from sklearn.neighbors import KNeighborsClassifier\n",
    "from sklearn.svm import SVC\n",
    "from sklearn.ensemble import RandomForestClassifier\n",
    "\n",
    "from sklearn.model_selection import train_test_split, GridSearchCV, cross_val_score\n",
    "from sklearn.metrics import roc_auc_score, plot_roc_curve, roc_curve\n",
    "\n",
    "import xgboost as xgb\n",
    "from xgboost import XGBClassifier\n",
    "\n",
    "pd.set_option('display.max_columns', None)"
   ]
  },
  {
   "cell_type": "code",
   "execution_count": 3,
   "metadata": {},
   "outputs": [],
   "source": [
    "df_train = pd.read_csv('../assets/processed_train.csv')\n",
    "df_prediction = pd.read_csv('../assets/processed_test.csv')"
   ]
  },
  {
   "cell_type": "code",
   "execution_count": 4,
   "metadata": {},
   "outputs": [],
   "source": [
    "df_train.drop(columns='Unnamed: 0', inplace = True, axis = 1)\n",
    "df_prediction.drop(columns='Unnamed: 0', inplace = True, axis = 1)"
   ]
  },
  {
   "cell_type": "markdown",
   "metadata": {},
   "source": [
    "### Pre-Processing"
   ]
  },
  {
   "cell_type": "code",
   "execution_count": 5,
   "metadata": {},
   "outputs": [
    {
     "name": "stdout",
     "output_type": "stream",
     "text": [
      "<class 'pandas.core.frame.DataFrame'>\n",
      "RangeIndex: 16950 entries, 0 to 16949\n",
      "Data columns (total 18 columns):\n",
      " #   Column           Non-Null Count  Dtype  \n",
      "---  ------           --------------  -----  \n",
      " 0   Date             16950 non-null  object \n",
      " 1   Species          16950 non-null  object \n",
      " 2   Trap             16950 non-null  object \n",
      " 3   Latitude         16950 non-null  float64\n",
      " 4   Longitude        16950 non-null  float64\n",
      " 5   NumMosquitos     16950 non-null  int64  \n",
      " 6   WnvPresent       16950 non-null  int64  \n",
      " 7   Nearest_Station  16950 non-null  int64  \n",
      " 8   Station          16950 non-null  int64  \n",
      " 9   Tavg             16950 non-null  float64\n",
      " 10  DewPoint         16950 non-null  int64  \n",
      " 11  WetBulb          16950 non-null  float64\n",
      " 12  PrecipTotal      16950 non-null  float64\n",
      " 13  StnPressure      16950 non-null  float64\n",
      " 14  AvgSpeed         16950 non-null  float64\n",
      " 15  Year             16950 non-null  float64\n",
      " 16  Month            16950 non-null  float64\n",
      " 17  WeekofYear       16950 non-null  float64\n",
      "dtypes: float64(10), int64(5), object(3)\n",
      "memory usage: 2.3+ MB\n"
     ]
    }
   ],
   "source": [
    "df_train.info()"
   ]
  },
  {
   "cell_type": "code",
   "execution_count": 6,
   "metadata": {},
   "outputs": [
    {
     "name": "stdout",
     "output_type": "stream",
     "text": [
      "<class 'pandas.core.frame.DataFrame'>\n",
      "RangeIndex: 232586 entries, 0 to 232585\n",
      "Data columns (total 16 columns):\n",
      " #   Column       Non-Null Count   Dtype  \n",
      "---  ------       --------------   -----  \n",
      " 0   Id           232586 non-null  int64  \n",
      " 1   Date         232586 non-null  object \n",
      " 2   Species      232586 non-null  object \n",
      " 3   Trap         232586 non-null  object \n",
      " 4   Latitude     232586 non-null  float64\n",
      " 5   Longitude    232586 non-null  float64\n",
      " 6   Station      232586 non-null  int64  \n",
      " 7   Tavg         232586 non-null  float64\n",
      " 8   DewPoint     232586 non-null  int64  \n",
      " 9   WetBulb      232586 non-null  float64\n",
      " 10  PrecipTotal  232586 non-null  float64\n",
      " 11  StnPressure  232586 non-null  float64\n",
      " 12  AvgSpeed     232586 non-null  float64\n",
      " 13  Year         232586 non-null  float64\n",
      " 14  Month        232586 non-null  float64\n",
      " 15  WeekofYear   232586 non-null  float64\n",
      "dtypes: float64(10), int64(3), object(3)\n",
      "memory usage: 28.4+ MB\n"
     ]
    }
   ],
   "source": [
    "df_prediction.info()"
   ]
  },
  {
   "cell_type": "code",
   "execution_count": 7,
   "metadata": {},
   "outputs": [],
   "source": [
    "# we only need a single station for evaluation hence we drop station 2 from rows and then we drop the station columns\n",
    "df_train = df_train[df_train['Station'] != 2]\n",
    "df_prediction = df_prediction[df_prediction['Station'] != 2]"
   ]
  },
  {
   "cell_type": "code",
   "execution_count": 8,
   "metadata": {},
   "outputs": [],
   "source": [
    "# during the EDA portion the date has already been sprase out into 3 new columns 'Year', 'Month' & 'WeekofYear'\n",
    "# Since the test set does not have NumMosquitos this is also drop on the train set\n",
    "# Nearest_Station is also dropped as it was only use for EDA purpose\n",
    "df_train.drop(columns=['Date', 'NumMosquitos', 'Nearest_Station', 'Station'], inplace = True, axis = 1)"
   ]
  },
  {
   "cell_type": "code",
   "execution_count": 9,
   "metadata": {},
   "outputs": [],
   "source": [
    "# date is also drop from the prediction set, and Id column is dropped since it is only used for kaggle score\n",
    "df_prediction.drop(columns=['Date', 'Id', 'Station'], inplace = True, axis = 1)"
   ]
  },
  {
   "cell_type": "code",
   "execution_count": 10,
   "metadata": {},
   "outputs": [
    {
     "name": "stdout",
     "output_type": "stream",
     "text": [
      "(8475, 14) (116293, 13)\n"
     ]
    }
   ],
   "source": [
    "print(df_train.shape, df_prediction.shape)"
   ]
  },
  {
   "cell_type": "markdown",
   "metadata": {},
   "source": [
    "### One-Hot Encoding"
   ]
  },
  {
   "cell_type": "markdown",
   "metadata": {},
   "source": [
    "Columns `Species` and `Trap` requires us to do do one-hot encoding however exploring the dataset, we can see that there is additional categorical information in `Species` and `Trap`, train set has `7 Species` category while prediction set has `8 Species` category. The same can be seen on `Trap` where train set has `136` vs `149` on the prediction set.  \n",
    "\n",
    "Using a combined dataset I created the dummy variables and then split them back into the appropriate dataframes again `train` and `prediction`."
   ]
  },
  {
   "cell_type": "code",
   "execution_count": 11,
   "metadata": {},
   "outputs": [
    {
     "name": "stdout",
     "output_type": "stream",
     "text": [
      "No. of unique species:\n",
      "train - 7\n",
      "predict - 8\n"
     ]
    }
   ],
   "source": [
    "print(f\"No. of unique species:\\ntrain - {df_train['Species'].nunique()}\\npredict - {df_prediction['Species'].nunique()}\")"
   ]
  },
  {
   "cell_type": "code",
   "execution_count": 12,
   "metadata": {},
   "outputs": [
    {
     "name": "stdout",
     "output_type": "stream",
     "text": [
      "No. of unique traps:\n",
      "train - 136\n",
      "predict - 149\n"
     ]
    }
   ],
   "source": [
    "print(f\"No. of unique traps:\\ntrain - {df_train['Trap'].nunique()}\\npredict - {df_prediction['Trap'].nunique()}\")"
   ]
  },
  {
   "cell_type": "code",
   "execution_count": 13,
   "metadata": {},
   "outputs": [],
   "source": [
    "df_train_num = len(df_train)\n",
    "\n",
    "# concat without the WnvPresent columns as that will be our target variable\n",
    "df_combine = pd.concat(objs = [df_train.drop('WnvPresent', axis = 1), df_prediction], axis = 0)\n",
    "\n",
    "# get dummy variables\n",
    "df_combine = pd.get_dummies(df_combine)\n",
    "\n",
    "# extract the train set out\n",
    "df_train_final = df_combine[:df_train_num]\n",
    "\n",
    "# extract the prediction set out\n",
    "df_prediction_final = df_combine[df_train_num:]"
   ]
  },
  {
   "cell_type": "code",
   "execution_count": 14,
   "metadata": {},
   "outputs": [
    {
     "name": "stdout",
     "output_type": "stream",
     "text": [
      "train - (8475, 168)\n",
      "predict - (116293, 168)\n"
     ]
    }
   ],
   "source": [
    "# check to ensure that the shape row and columns are correct.\n",
    "print(f\"train - {df_train_final.shape}\\npredict - {df_prediction_final.shape}\")"
   ]
  },
  {
   "cell_type": "code",
   "execution_count": 15,
   "metadata": {},
   "outputs": [],
   "source": [
    "# adding the WnvPresent column back into the train set so that we can do a split later\n",
    "df_wnv = pd.DataFrame(df_train['WnvPresent'])\n",
    "df_train_final = pd.concat(objs = [df_train_final, df_wnv], axis = 1)"
   ]
  },
  {
   "cell_type": "code",
   "execution_count": 16,
   "metadata": {},
   "outputs": [
    {
     "data": {
      "text/plain": [
       "(8475, 169)"
      ]
     },
     "execution_count": 16,
     "metadata": {},
     "output_type": "execute_result"
    }
   ],
   "source": [
    "df_train_final.shape"
   ]
  },
  {
   "cell_type": "markdown",
   "metadata": {},
   "source": [
    "## Modeling "
   ]
  },
  {
   "cell_type": "markdown",
   "metadata": {},
   "source": [
    "The classifier choosen are Logistic Regression, K Nearest Neighbor, Random Forest, Support Vector Classification and XGBoost.  \n",
    "\n",
    "Below is a summary of the flow of modeling:  \n",
    "- Hyperparameter tuning on all 5 classifiers\n",
    "- Cross validation score on all 5 classifiers using only the best hyperparameter choosen\n",
    "- Evaluate the best learning algorithm\n",
    "- Train the entire train.csv with the best learning algorithm for production usage (in this case test.csv)"
   ]
  },
  {
   "cell_type": "markdown",
   "metadata": {},
   "source": [
    "### Hyperparameter Tuning"
   ]
  },
  {
   "cell_type": "code",
   "execution_count": 18,
   "metadata": {},
   "outputs": [],
   "source": [
    "# train-test split\n",
    "X, y = df_train_final.drop(columns = 'WnvPresent'), df_train_final['WnvPresent']\n",
    "X_train, X_test, y_train, y_test = train_test_split(X, y, stratify = y, test_size = 0.2, random_state = 42)"
   ]
  },
  {
   "cell_type": "code",
   "execution_count": 19,
   "metadata": {},
   "outputs": [],
   "source": [
    "# Initializing Classifiers\n",
    "clf_lr  = LogisticRegression(solver='liblinear', random_state=0)\n",
    "clf_knn = KNeighborsClassifier()\n",
    "clf_rf  = RandomForestClassifier(random_state=0)\n",
    "clf_svc = SVC(random_state=0)\n",
    "clf_xgc = xgb.XGBClassifier(random_state=0)\n",
    "\n",
    "# Building the model pipelines incl. preprocessing where needed \n",
    "# Note that the random forest and xgboost does not need feature scaling\n",
    "pipe_lr  = Pipeline([('std', StandardScaler()),\n",
    "                     ('clf_lr', clf_lr)])\n",
    "\n",
    "pipe_svc = Pipeline([('std', StandardScaler()),\n",
    "                     ('clf_svc', clf_svc)])\n",
    "\n",
    "pipe_knn = Pipeline([('std', StandardScaler()),\n",
    "                     ('clf_knn', clf_knn)])\n",
    "\n",
    "# Setting up the parameter grids\n",
    "param_grid_lr  = [{'clf_lr__penalty': ['l1', 'l2'],\n",
    "                   'clf_lr__C': np.logspace(-4, 4, 9)}]\n",
    "\n",
    "param_grid_knn = [{'clf_knn__n_neighbors': list(range(3, 7)),\n",
    "                   'clf_knn__p': [1, 2],\n",
    "                   'clf_knn__leaf_size': [5, 10, 15],\n",
    "                   'clf_knn__weights': ['uniform', 'distance']}]\n",
    "\n",
    "param_grid_rf  = [{'n_estimators': [10, 20, 50, 100, 150, 200],\n",
    "                   'min_samples_leaf': [2, 5, 10],\n",
    "                   'max_features': ['sqrt', 'log2']}]\n",
    "\n",
    "param_grid_svc = [{'clf_svc__kernel': ['rbf'],\n",
    "                   'clf_svc__C': np.logspace(-1, 3, 5),\n",
    "                   'clf_svc__gamma': np.logspace(-4, 0, 4)[:3]}]\n",
    "\n",
    "param_grid_xgc = [{'eval_metric' : ['auc'],\n",
    "                   'subsample' : [0.5], \n",
    "                   'colsample_bytree' : [0.2], \n",
    "                   'learning_rate' : [0.1],\n",
    "                   'max_depth' : [3], \n",
    "                   'reg_alpha' : [0, 1, 1.5],\n",
    "                   'reg_lambda' : [1, 2, 5],\n",
    "                   'gamma' : [0.01, 0.03, 0.05]}]"
   ]
  },
  {
   "cell_type": "code",
   "execution_count": 20,
   "metadata": {},
   "outputs": [],
   "source": [
    "# Initialize functions for grid search, calling on above functions, and printing model metrics\n",
    "def grid_search(classifier, params):\n",
    "    gs = GridSearchCV(classifier, param_grid=params, cv=3, scoring='roc_auc', verbose=5)\n",
    "    gs.fit(X_train, y_train)\n",
    "    print(f'Train AUC Score: {round(gs.best_score_, 4)}')\n",
    "    print(f'Using the following parameters: {gs.best_params_}')\n",
    "    print('\\n')\n",
    "    return"
   ]
  },
  {
   "cell_type": "code",
   "execution_count": 21,
   "metadata": {},
   "outputs": [],
   "source": [
    "def crossvalscore(classifer_best_params):\n",
    "    model = classifer_best_params.fit(X_train, y_train)\n",
    "    score = cross_val_score(classifer_best_params,\n",
    "                            X=X_train,\n",
    "                            y=y_train,\n",
    "                            cv=5,\n",
    "                            n_jobs=1,\n",
    "                            scoring='roc_auc')\n",
    "    print(score)\n",
    "    print(f'AUC Mean Score {100*score.mean():.2f} +/- {100*score.std():.2f}')\n",
    "    return"
   ]
  },
  {
   "cell_type": "markdown",
   "metadata": {},
   "source": [
    "### Logistic Regression"
   ]
  },
  {
   "cell_type": "code",
   "execution_count": 157,
   "metadata": {},
   "outputs": [
    {
     "name": "stdout",
     "output_type": "stream",
     "text": [
      "Fitting 3 folds for each of 18 candidates, totalling 54 fits\n",
      "[CV] clf_lr__C=0.0001, clf_lr__penalty=l1 ............................\n",
      "[CV]  clf_lr__C=0.0001, clf_lr__penalty=l1, score=0.500, total=   0.1s\n",
      "[CV] clf_lr__C=0.0001, clf_lr__penalty=l1 ............................\n",
      "[CV]  clf_lr__C=0.0001, clf_lr__penalty=l1, score=0.500, total=   0.1s\n",
      "[CV] clf_lr__C=0.0001, clf_lr__penalty=l1 ............................\n"
     ]
    },
    {
     "name": "stderr",
     "output_type": "stream",
     "text": [
      "[Parallel(n_jobs=1)]: Using backend SequentialBackend with 1 concurrent workers.\n",
      "[Parallel(n_jobs=1)]: Done   1 out of   1 | elapsed:    0.0s remaining:    0.0s\n",
      "[Parallel(n_jobs=1)]: Done   2 out of   2 | elapsed:    0.1s remaining:    0.0s\n"
     ]
    },
    {
     "name": "stdout",
     "output_type": "stream",
     "text": [
      "[CV]  clf_lr__C=0.0001, clf_lr__penalty=l1, score=0.500, total=   0.1s\n",
      "[CV] clf_lr__C=0.0001, clf_lr__penalty=l2 ............................\n",
      "[CV]  clf_lr__C=0.0001, clf_lr__penalty=l2, score=0.766, total=   0.1s\n",
      "[CV] clf_lr__C=0.0001, clf_lr__penalty=l2 ............................\n",
      "[CV]  clf_lr__C=0.0001, clf_lr__penalty=l2, score=0.752, total=   0.1s\n",
      "[CV] clf_lr__C=0.0001, clf_lr__penalty=l2 ............................\n"
     ]
    },
    {
     "name": "stderr",
     "output_type": "stream",
     "text": [
      "[Parallel(n_jobs=1)]: Done   3 out of   3 | elapsed:    0.1s remaining:    0.0s\n",
      "[Parallel(n_jobs=1)]: Done   4 out of   4 | elapsed:    0.2s remaining:    0.0s\n"
     ]
    },
    {
     "name": "stdout",
     "output_type": "stream",
     "text": [
      "[CV]  clf_lr__C=0.0001, clf_lr__penalty=l2, score=0.749, total=   0.1s\n",
      "[CV] clf_lr__C=0.001, clf_lr__penalty=l1 .............................\n",
      "[CV] . clf_lr__C=0.001, clf_lr__penalty=l1, score=0.500, total=   0.1s\n",
      "[CV] clf_lr__C=0.001, clf_lr__penalty=l1 .............................\n",
      "[CV] . clf_lr__C=0.001, clf_lr__penalty=l1, score=0.500, total=   0.1s\n",
      "[CV] clf_lr__C=0.001, clf_lr__penalty=l1 .............................\n",
      "[CV] . clf_lr__C=0.001, clf_lr__penalty=l1, score=0.500, total=   0.1s\n",
      "[CV] clf_lr__C=0.001, clf_lr__penalty=l2 .............................\n",
      "[CV] . clf_lr__C=0.001, clf_lr__penalty=l2, score=0.760, total=   0.1s\n",
      "[CV] clf_lr__C=0.001, clf_lr__penalty=l2 .............................\n",
      "[CV] . clf_lr__C=0.001, clf_lr__penalty=l2, score=0.746, total=   0.1s\n",
      "[CV] clf_lr__C=0.001, clf_lr__penalty=l2 .............................\n",
      "[CV] . clf_lr__C=0.001, clf_lr__penalty=l2, score=0.748, total=   0.1s\n",
      "[CV] clf_lr__C=0.01, clf_lr__penalty=l1 ..............................\n",
      "[CV] .. clf_lr__C=0.01, clf_lr__penalty=l1, score=0.621, total=   0.1s\n",
      "[CV] clf_lr__C=0.01, clf_lr__penalty=l1 ..............................\n",
      "[CV] .. clf_lr__C=0.01, clf_lr__penalty=l1, score=0.649, total=   0.1s\n",
      "[CV] clf_lr__C=0.01, clf_lr__penalty=l1 ..............................\n",
      "[CV] .. clf_lr__C=0.01, clf_lr__penalty=l1, score=0.620, total=   0.1s\n",
      "[CV] clf_lr__C=0.01, clf_lr__penalty=l2 ..............................\n",
      "[CV] .. clf_lr__C=0.01, clf_lr__penalty=l2, score=0.759, total=   0.1s\n",
      "[CV] clf_lr__C=0.01, clf_lr__penalty=l2 ..............................\n",
      "[CV] .. clf_lr__C=0.01, clf_lr__penalty=l2, score=0.743, total=   0.1s\n",
      "[CV] clf_lr__C=0.01, clf_lr__penalty=l2 ..............................\n",
      "[CV] .. clf_lr__C=0.01, clf_lr__penalty=l2, score=0.751, total=   0.1s\n",
      "[CV] clf_lr__C=0.1, clf_lr__penalty=l1 ...............................\n",
      "[CV] ... clf_lr__C=0.1, clf_lr__penalty=l1, score=0.770, total=   0.2s\n",
      "[CV] clf_lr__C=0.1, clf_lr__penalty=l1 ...............................\n",
      "[CV] ... clf_lr__C=0.1, clf_lr__penalty=l1, score=0.753, total=   0.2s\n",
      "[CV] clf_lr__C=0.1, clf_lr__penalty=l1 ...............................\n",
      "[CV] ... clf_lr__C=0.1, clf_lr__penalty=l1, score=0.766, total=   0.2s\n",
      "[CV] clf_lr__C=0.1, clf_lr__penalty=l2 ...............................\n",
      "[CV] ... clf_lr__C=0.1, clf_lr__penalty=l2, score=0.756, total=   0.2s\n",
      "[CV] clf_lr__C=0.1, clf_lr__penalty=l2 ...............................\n",
      "[CV] ... clf_lr__C=0.1, clf_lr__penalty=l2, score=0.736, total=   0.2s\n",
      "[CV] clf_lr__C=0.1, clf_lr__penalty=l2 ...............................\n",
      "[CV] ... clf_lr__C=0.1, clf_lr__penalty=l2, score=0.755, total=   0.2s\n",
      "[CV] clf_lr__C=1.0, clf_lr__penalty=l1 ...............................\n",
      "[CV] ... clf_lr__C=1.0, clf_lr__penalty=l1, score=0.752, total=   0.3s\n",
      "[CV] clf_lr__C=1.0, clf_lr__penalty=l1 ...............................\n",
      "[CV] ... clf_lr__C=1.0, clf_lr__penalty=l1, score=0.724, total=   2.0s\n",
      "[CV] clf_lr__C=1.0, clf_lr__penalty=l1 ...............................\n",
      "[CV] ... clf_lr__C=1.0, clf_lr__penalty=l1, score=0.756, total=   0.6s\n",
      "[CV] clf_lr__C=1.0, clf_lr__penalty=l2 ...............................\n",
      "[CV] ... clf_lr__C=1.0, clf_lr__penalty=l2, score=0.745, total=   0.3s\n",
      "[CV] clf_lr__C=1.0, clf_lr__penalty=l2 ...............................\n",
      "[CV] ... clf_lr__C=1.0, clf_lr__penalty=l2, score=0.719, total=   0.2s\n",
      "[CV] clf_lr__C=1.0, clf_lr__penalty=l2 ...............................\n",
      "[CV] ... clf_lr__C=1.0, clf_lr__penalty=l2, score=0.751, total=   0.3s\n",
      "[CV] clf_lr__C=10.0, clf_lr__penalty=l1 ..............................\n",
      "[CV] .. clf_lr__C=10.0, clf_lr__penalty=l1, score=0.740, total=   4.0s\n",
      "[CV] clf_lr__C=10.0, clf_lr__penalty=l1 ..............................\n",
      "[CV] .. clf_lr__C=10.0, clf_lr__penalty=l1, score=0.708, total=   6.1s\n",
      "[CV] clf_lr__C=10.0, clf_lr__penalty=l1 ..............................\n",
      "[CV] .. clf_lr__C=10.0, clf_lr__penalty=l1, score=0.749, total=   4.4s\n",
      "[CV] clf_lr__C=10.0, clf_lr__penalty=l2 ..............................\n",
      "[CV] .. clf_lr__C=10.0, clf_lr__penalty=l2, score=0.741, total=   0.5s\n",
      "[CV] clf_lr__C=10.0, clf_lr__penalty=l2 ..............................\n",
      "[CV] .. clf_lr__C=10.0, clf_lr__penalty=l2, score=0.710, total=   0.5s\n",
      "[CV] clf_lr__C=10.0, clf_lr__penalty=l2 ..............................\n",
      "[CV] .. clf_lr__C=10.0, clf_lr__penalty=l2, score=0.748, total=   0.5s\n",
      "[CV] clf_lr__C=100.0, clf_lr__penalty=l1 .............................\n"
     ]
    },
    {
     "name": "stderr",
     "output_type": "stream",
     "text": [
      "C:\\Users\\Melvin\\anaconda3\\lib\\site-packages\\sklearn\\svm\\_base.py:977: ConvergenceWarning: Liblinear failed to converge, increase the number of iterations.\n",
      "  \"the number of iterations.\", ConvergenceWarning)\n"
     ]
    },
    {
     "name": "stdout",
     "output_type": "stream",
     "text": [
      "[CV] . clf_lr__C=100.0, clf_lr__penalty=l1, score=0.739, total=   4.3s\n",
      "[CV] clf_lr__C=100.0, clf_lr__penalty=l1 .............................\n"
     ]
    },
    {
     "name": "stderr",
     "output_type": "stream",
     "text": [
      "C:\\Users\\Melvin\\anaconda3\\lib\\site-packages\\sklearn\\svm\\_base.py:977: ConvergenceWarning: Liblinear failed to converge, increase the number of iterations.\n",
      "  \"the number of iterations.\", ConvergenceWarning)\n"
     ]
    },
    {
     "name": "stdout",
     "output_type": "stream",
     "text": [
      "[CV] . clf_lr__C=100.0, clf_lr__penalty=l1, score=0.706, total=   2.8s\n",
      "[CV] clf_lr__C=100.0, clf_lr__penalty=l1 .............................\n"
     ]
    },
    {
     "name": "stderr",
     "output_type": "stream",
     "text": [
      "C:\\Users\\Melvin\\anaconda3\\lib\\site-packages\\sklearn\\svm\\_base.py:977: ConvergenceWarning: Liblinear failed to converge, increase the number of iterations.\n",
      "  \"the number of iterations.\", ConvergenceWarning)\n"
     ]
    },
    {
     "name": "stdout",
     "output_type": "stream",
     "text": [
      "[CV] . clf_lr__C=100.0, clf_lr__penalty=l1, score=0.749, total=  15.7s\n",
      "[CV] clf_lr__C=100.0, clf_lr__penalty=l2 .............................\n",
      "[CV] . clf_lr__C=100.0, clf_lr__penalty=l2, score=0.740, total=   0.7s\n",
      "[CV] clf_lr__C=100.0, clf_lr__penalty=l2 .............................\n",
      "[CV] . clf_lr__C=100.0, clf_lr__penalty=l2, score=0.705, total=   0.6s\n",
      "[CV] clf_lr__C=100.0, clf_lr__penalty=l2 .............................\n",
      "[CV] . clf_lr__C=100.0, clf_lr__penalty=l2, score=0.749, total=   0.7s\n",
      "[CV] clf_lr__C=1000.0, clf_lr__penalty=l1 ............................\n"
     ]
    },
    {
     "name": "stderr",
     "output_type": "stream",
     "text": [
      "C:\\Users\\Melvin\\anaconda3\\lib\\site-packages\\sklearn\\svm\\_base.py:977: ConvergenceWarning: Liblinear failed to converge, increase the number of iterations.\n",
      "  \"the number of iterations.\", ConvergenceWarning)\n"
     ]
    },
    {
     "name": "stdout",
     "output_type": "stream",
     "text": [
      "[CV]  clf_lr__C=1000.0, clf_lr__penalty=l1, score=0.739, total=   5.3s\n",
      "[CV] clf_lr__C=1000.0, clf_lr__penalty=l1 ............................\n"
     ]
    },
    {
     "name": "stderr",
     "output_type": "stream",
     "text": [
      "C:\\Users\\Melvin\\anaconda3\\lib\\site-packages\\sklearn\\svm\\_base.py:977: ConvergenceWarning: Liblinear failed to converge, increase the number of iterations.\n",
      "  \"the number of iterations.\", ConvergenceWarning)\n"
     ]
    },
    {
     "name": "stdout",
     "output_type": "stream",
     "text": [
      "[CV]  clf_lr__C=1000.0, clf_lr__penalty=l1, score=0.707, total=   4.5s\n",
      "[CV] clf_lr__C=1000.0, clf_lr__penalty=l1 ............................\n"
     ]
    },
    {
     "name": "stderr",
     "output_type": "stream",
     "text": [
      "C:\\Users\\Melvin\\anaconda3\\lib\\site-packages\\sklearn\\svm\\_base.py:977: ConvergenceWarning: Liblinear failed to converge, increase the number of iterations.\n",
      "  \"the number of iterations.\", ConvergenceWarning)\n"
     ]
    },
    {
     "name": "stdout",
     "output_type": "stream",
     "text": [
      "[CV]  clf_lr__C=1000.0, clf_lr__penalty=l1, score=0.748, total=   2.2s\n",
      "[CV] clf_lr__C=1000.0, clf_lr__penalty=l2 ............................\n",
      "[CV]  clf_lr__C=1000.0, clf_lr__penalty=l2, score=0.739, total=   0.9s\n",
      "[CV] clf_lr__C=1000.0, clf_lr__penalty=l2 ............................\n",
      "[CV]  clf_lr__C=1000.0, clf_lr__penalty=l2, score=0.700, total=   1.0s\n",
      "[CV] clf_lr__C=1000.0, clf_lr__penalty=l2 ............................\n",
      "[CV]  clf_lr__C=1000.0, clf_lr__penalty=l2, score=0.750, total=   0.8s\n",
      "[CV] clf_lr__C=10000.0, clf_lr__penalty=l1 ...........................\n"
     ]
    },
    {
     "name": "stderr",
     "output_type": "stream",
     "text": [
      "C:\\Users\\Melvin\\anaconda3\\lib\\site-packages\\sklearn\\svm\\_base.py:977: ConvergenceWarning: Liblinear failed to converge, increase the number of iterations.\n",
      "  \"the number of iterations.\", ConvergenceWarning)\n"
     ]
    },
    {
     "name": "stdout",
     "output_type": "stream",
     "text": [
      "[CV]  clf_lr__C=10000.0, clf_lr__penalty=l1, score=0.739, total=   5.1s\n",
      "[CV] clf_lr__C=10000.0, clf_lr__penalty=l1 ...........................\n"
     ]
    },
    {
     "name": "stderr",
     "output_type": "stream",
     "text": [
      "C:\\Users\\Melvin\\anaconda3\\lib\\site-packages\\sklearn\\svm\\_base.py:977: ConvergenceWarning: Liblinear failed to converge, increase the number of iterations.\n",
      "  \"the number of iterations.\", ConvergenceWarning)\n"
     ]
    },
    {
     "name": "stdout",
     "output_type": "stream",
     "text": [
      "[CV]  clf_lr__C=10000.0, clf_lr__penalty=l1, score=0.708, total=   5.7s\n",
      "[CV] clf_lr__C=10000.0, clf_lr__penalty=l1 ...........................\n"
     ]
    },
    {
     "name": "stderr",
     "output_type": "stream",
     "text": [
      "C:\\Users\\Melvin\\anaconda3\\lib\\site-packages\\sklearn\\svm\\_base.py:977: ConvergenceWarning: Liblinear failed to converge, increase the number of iterations.\n",
      "  \"the number of iterations.\", ConvergenceWarning)\n"
     ]
    },
    {
     "name": "stdout",
     "output_type": "stream",
     "text": [
      "[CV]  clf_lr__C=10000.0, clf_lr__penalty=l1, score=0.748, total=  12.9s\n",
      "[CV] clf_lr__C=10000.0, clf_lr__penalty=l2 ...........................\n",
      "[CV]  clf_lr__C=10000.0, clf_lr__penalty=l2, score=0.739, total=   1.1s\n",
      "[CV] clf_lr__C=10000.0, clf_lr__penalty=l2 ...........................\n",
      "[CV]  clf_lr__C=10000.0, clf_lr__penalty=l2, score=0.695, total=   1.0s\n",
      "[CV] clf_lr__C=10000.0, clf_lr__penalty=l2 ...........................\n",
      "[CV]  clf_lr__C=10000.0, clf_lr__penalty=l2, score=0.750, total=   1.2s\n"
     ]
    },
    {
     "name": "stderr",
     "output_type": "stream",
     "text": [
      "[Parallel(n_jobs=1)]: Done  54 out of  54 | elapsed:  1.5min finished\n"
     ]
    },
    {
     "name": "stdout",
     "output_type": "stream",
     "text": [
      "Train AUC Score: 0.763\n",
      "Using the following parameters: {'clf_lr__C': 0.1, 'clf_lr__penalty': 'l1'}\n",
      "\n",
      "\n"
     ]
    }
   ],
   "source": [
    "grid_search(pipe_lr, param_grid_lr)"
   ]
  },
  {
   "cell_type": "code",
   "execution_count": 162,
   "metadata": {},
   "outputs": [],
   "source": [
    "clf_lr_best = LogisticRegression(solver='liblinear', random_state=0, C=0.1, penalty='l1')"
   ]
  },
  {
   "cell_type": "code",
   "execution_count": 163,
   "metadata": {},
   "outputs": [
    {
     "name": "stderr",
     "output_type": "stream",
     "text": [
      "C:\\Users\\Melvin\\anaconda3\\lib\\site-packages\\sklearn\\svm\\_base.py:977: ConvergenceWarning: Liblinear failed to converge, increase the number of iterations.\n",
      "  \"the number of iterations.\", ConvergenceWarning)\n",
      "C:\\Users\\Melvin\\anaconda3\\lib\\site-packages\\sklearn\\svm\\_base.py:977: ConvergenceWarning: Liblinear failed to converge, increase the number of iterations.\n",
      "  \"the number of iterations.\", ConvergenceWarning)\n",
      "C:\\Users\\Melvin\\anaconda3\\lib\\site-packages\\sklearn\\svm\\_base.py:977: ConvergenceWarning: Liblinear failed to converge, increase the number of iterations.\n",
      "  \"the number of iterations.\", ConvergenceWarning)\n"
     ]
    },
    {
     "name": "stdout",
     "output_type": "stream",
     "text": [
      "[0.73402449 0.73619193 0.68418411 0.72589927 0.70871105]\n",
      "AUC Mean Score 71.78 +/- 1.94\n"
     ]
    }
   ],
   "source": [
    "crossvalscore(clf_lr_best)"
   ]
  },
  {
   "cell_type": "markdown",
   "metadata": {},
   "source": [
    "### K-nearest Neighbors"
   ]
  },
  {
   "cell_type": "code",
   "execution_count": 159,
   "metadata": {
    "scrolled": true
   },
   "outputs": [
    {
     "name": "stdout",
     "output_type": "stream",
     "text": [
      "Fitting 3 folds for each of 48 candidates, totalling 144 fits\n",
      "[CV] clf_knn__leaf_size=5, clf_knn__n_neighbors=3, clf_knn__p=1, clf_knn__weights=uniform \n"
     ]
    },
    {
     "name": "stderr",
     "output_type": "stream",
     "text": [
      "[Parallel(n_jobs=1)]: Using backend SequentialBackend with 1 concurrent workers.\n"
     ]
    },
    {
     "name": "stdout",
     "output_type": "stream",
     "text": [
      "[CV]  clf_knn__leaf_size=5, clf_knn__n_neighbors=3, clf_knn__p=1, clf_knn__weights=uniform, score=0.674, total=   2.0s\n",
      "[CV] clf_knn__leaf_size=5, clf_knn__n_neighbors=3, clf_knn__p=1, clf_knn__weights=uniform \n"
     ]
    },
    {
     "name": "stderr",
     "output_type": "stream",
     "text": [
      "[Parallel(n_jobs=1)]: Done   1 out of   1 | elapsed:    1.9s remaining:    0.0s\n"
     ]
    },
    {
     "name": "stdout",
     "output_type": "stream",
     "text": [
      "[CV]  clf_knn__leaf_size=5, clf_knn__n_neighbors=3, clf_knn__p=1, clf_knn__weights=uniform, score=0.620, total=   1.9s\n",
      "[CV] clf_knn__leaf_size=5, clf_knn__n_neighbors=3, clf_knn__p=1, clf_knn__weights=uniform \n"
     ]
    },
    {
     "name": "stderr",
     "output_type": "stream",
     "text": [
      "[Parallel(n_jobs=1)]: Done   2 out of   2 | elapsed:    3.8s remaining:    0.0s\n"
     ]
    },
    {
     "name": "stdout",
     "output_type": "stream",
     "text": [
      "[CV]  clf_knn__leaf_size=5, clf_knn__n_neighbors=3, clf_knn__p=1, clf_knn__weights=uniform, score=0.642, total=   1.9s\n",
      "[CV] clf_knn__leaf_size=5, clf_knn__n_neighbors=3, clf_knn__p=1, clf_knn__weights=distance \n"
     ]
    },
    {
     "name": "stderr",
     "output_type": "stream",
     "text": [
      "[Parallel(n_jobs=1)]: Done   3 out of   3 | elapsed:    5.7s remaining:    0.0s\n"
     ]
    },
    {
     "name": "stdout",
     "output_type": "stream",
     "text": [
      "[CV]  clf_knn__leaf_size=5, clf_knn__n_neighbors=3, clf_knn__p=1, clf_knn__weights=distance, score=0.673, total=   1.9s\n",
      "[CV] clf_knn__leaf_size=5, clf_knn__n_neighbors=3, clf_knn__p=1, clf_knn__weights=distance \n"
     ]
    },
    {
     "name": "stderr",
     "output_type": "stream",
     "text": [
      "[Parallel(n_jobs=1)]: Done   4 out of   4 | elapsed:    7.6s remaining:    0.0s\n"
     ]
    },
    {
     "name": "stdout",
     "output_type": "stream",
     "text": [
      "[CV]  clf_knn__leaf_size=5, clf_knn__n_neighbors=3, clf_knn__p=1, clf_knn__weights=distance, score=0.622, total=   2.0s\n",
      "[CV] clf_knn__leaf_size=5, clf_knn__n_neighbors=3, clf_knn__p=1, clf_knn__weights=distance \n",
      "[CV]  clf_knn__leaf_size=5, clf_knn__n_neighbors=3, clf_knn__p=1, clf_knn__weights=distance, score=0.640, total=   1.9s\n",
      "[CV] clf_knn__leaf_size=5, clf_knn__n_neighbors=3, clf_knn__p=2, clf_knn__weights=uniform \n",
      "[CV]  clf_knn__leaf_size=5, clf_knn__n_neighbors=3, clf_knn__p=2, clf_knn__weights=uniform, score=0.640, total=   2.1s\n",
      "[CV] clf_knn__leaf_size=5, clf_knn__n_neighbors=3, clf_knn__p=2, clf_knn__weights=uniform \n",
      "[CV]  clf_knn__leaf_size=5, clf_knn__n_neighbors=3, clf_knn__p=2, clf_knn__weights=uniform, score=0.585, total=   2.2s\n",
      "[CV] clf_knn__leaf_size=5, clf_knn__n_neighbors=3, clf_knn__p=2, clf_knn__weights=uniform \n",
      "[CV]  clf_knn__leaf_size=5, clf_knn__n_neighbors=3, clf_knn__p=2, clf_knn__weights=uniform, score=0.625, total=   2.1s\n",
      "[CV] clf_knn__leaf_size=5, clf_knn__n_neighbors=3, clf_knn__p=2, clf_knn__weights=distance \n",
      "[CV]  clf_knn__leaf_size=5, clf_knn__n_neighbors=3, clf_knn__p=2, clf_knn__weights=distance, score=0.639, total=   2.0s\n",
      "[CV] clf_knn__leaf_size=5, clf_knn__n_neighbors=3, clf_knn__p=2, clf_knn__weights=distance \n",
      "[CV]  clf_knn__leaf_size=5, clf_knn__n_neighbors=3, clf_knn__p=2, clf_knn__weights=distance, score=0.588, total=   2.1s\n",
      "[CV] clf_knn__leaf_size=5, clf_knn__n_neighbors=3, clf_knn__p=2, clf_knn__weights=distance \n",
      "[CV]  clf_knn__leaf_size=5, clf_knn__n_neighbors=3, clf_knn__p=2, clf_knn__weights=distance, score=0.623, total=   2.1s\n",
      "[CV] clf_knn__leaf_size=5, clf_knn__n_neighbors=4, clf_knn__p=1, clf_knn__weights=uniform \n",
      "[CV]  clf_knn__leaf_size=5, clf_knn__n_neighbors=4, clf_knn__p=1, clf_knn__weights=uniform, score=0.682, total=   2.1s\n",
      "[CV] clf_knn__leaf_size=5, clf_knn__n_neighbors=4, clf_knn__p=1, clf_knn__weights=uniform \n",
      "[CV]  clf_knn__leaf_size=5, clf_knn__n_neighbors=4, clf_knn__p=1, clf_knn__weights=uniform, score=0.653, total=   2.0s\n",
      "[CV] clf_knn__leaf_size=5, clf_knn__n_neighbors=4, clf_knn__p=1, clf_knn__weights=uniform \n",
      "[CV]  clf_knn__leaf_size=5, clf_knn__n_neighbors=4, clf_knn__p=1, clf_knn__weights=uniform, score=0.652, total=   2.1s\n",
      "[CV] clf_knn__leaf_size=5, clf_knn__n_neighbors=4, clf_knn__p=1, clf_knn__weights=distance \n",
      "[CV]  clf_knn__leaf_size=5, clf_knn__n_neighbors=4, clf_knn__p=1, clf_knn__weights=distance, score=0.684, total=   2.1s\n",
      "[CV] clf_knn__leaf_size=5, clf_knn__n_neighbors=4, clf_knn__p=1, clf_knn__weights=distance \n",
      "[CV]  clf_knn__leaf_size=5, clf_knn__n_neighbors=4, clf_knn__p=1, clf_knn__weights=distance, score=0.654, total=   2.3s\n",
      "[CV] clf_knn__leaf_size=5, clf_knn__n_neighbors=4, clf_knn__p=1, clf_knn__weights=distance \n",
      "[CV]  clf_knn__leaf_size=5, clf_knn__n_neighbors=4, clf_knn__p=1, clf_knn__weights=distance, score=0.652, total=   2.0s\n",
      "[CV] clf_knn__leaf_size=5, clf_knn__n_neighbors=4, clf_knn__p=2, clf_knn__weights=uniform \n",
      "[CV]  clf_knn__leaf_size=5, clf_knn__n_neighbors=4, clf_knn__p=2, clf_knn__weights=uniform, score=0.654, total=   2.2s\n",
      "[CV] clf_knn__leaf_size=5, clf_knn__n_neighbors=4, clf_knn__p=2, clf_knn__weights=uniform \n",
      "[CV]  clf_knn__leaf_size=5, clf_knn__n_neighbors=4, clf_knn__p=2, clf_knn__weights=uniform, score=0.599, total=   2.3s\n",
      "[CV] clf_knn__leaf_size=5, clf_knn__n_neighbors=4, clf_knn__p=2, clf_knn__weights=uniform \n",
      "[CV]  clf_knn__leaf_size=5, clf_knn__n_neighbors=4, clf_knn__p=2, clf_knn__weights=uniform, score=0.646, total=   2.3s\n",
      "[CV] clf_knn__leaf_size=5, clf_knn__n_neighbors=4, clf_knn__p=2, clf_knn__weights=distance \n",
      "[CV]  clf_knn__leaf_size=5, clf_knn__n_neighbors=4, clf_knn__p=2, clf_knn__weights=distance, score=0.654, total=   2.2s\n",
      "[CV] clf_knn__leaf_size=5, clf_knn__n_neighbors=4, clf_knn__p=2, clf_knn__weights=distance \n",
      "[CV]  clf_knn__leaf_size=5, clf_knn__n_neighbors=4, clf_knn__p=2, clf_knn__weights=distance, score=0.602, total=   2.3s\n",
      "[CV] clf_knn__leaf_size=5, clf_knn__n_neighbors=4, clf_knn__p=2, clf_knn__weights=distance \n",
      "[CV]  clf_knn__leaf_size=5, clf_knn__n_neighbors=4, clf_knn__p=2, clf_knn__weights=distance, score=0.644, total=   2.3s\n",
      "[CV] clf_knn__leaf_size=5, clf_knn__n_neighbors=5, clf_knn__p=1, clf_knn__weights=uniform \n",
      "[CV]  clf_knn__leaf_size=5, clf_knn__n_neighbors=5, clf_knn__p=1, clf_knn__weights=uniform, score=0.690, total=   2.4s\n",
      "[CV] clf_knn__leaf_size=5, clf_knn__n_neighbors=5, clf_knn__p=1, clf_knn__weights=uniform \n",
      "[CV]  clf_knn__leaf_size=5, clf_knn__n_neighbors=5, clf_knn__p=1, clf_knn__weights=uniform, score=0.662, total=   2.4s\n",
      "[CV] clf_knn__leaf_size=5, clf_knn__n_neighbors=5, clf_knn__p=1, clf_knn__weights=uniform \n",
      "[CV]  clf_knn__leaf_size=5, clf_knn__n_neighbors=5, clf_knn__p=1, clf_knn__weights=uniform, score=0.656, total=   2.3s\n",
      "[CV] clf_knn__leaf_size=5, clf_knn__n_neighbors=5, clf_knn__p=1, clf_knn__weights=distance \n",
      "[CV]  clf_knn__leaf_size=5, clf_knn__n_neighbors=5, clf_knn__p=1, clf_knn__weights=distance, score=0.693, total=   2.3s\n",
      "[CV] clf_knn__leaf_size=5, clf_knn__n_neighbors=5, clf_knn__p=1, clf_knn__weights=distance \n",
      "[CV]  clf_knn__leaf_size=5, clf_knn__n_neighbors=5, clf_knn__p=1, clf_knn__weights=distance, score=0.664, total=   2.4s\n",
      "[CV] clf_knn__leaf_size=5, clf_knn__n_neighbors=5, clf_knn__p=1, clf_knn__weights=distance \n",
      "[CV]  clf_knn__leaf_size=5, clf_knn__n_neighbors=5, clf_knn__p=1, clf_knn__weights=distance, score=0.657, total=   2.4s\n",
      "[CV] clf_knn__leaf_size=5, clf_knn__n_neighbors=5, clf_knn__p=2, clf_knn__weights=uniform \n",
      "[CV]  clf_knn__leaf_size=5, clf_knn__n_neighbors=5, clf_knn__p=2, clf_knn__weights=uniform, score=0.651, total=   2.5s\n",
      "[CV] clf_knn__leaf_size=5, clf_knn__n_neighbors=5, clf_knn__p=2, clf_knn__weights=uniform \n",
      "[CV]  clf_knn__leaf_size=5, clf_knn__n_neighbors=5, clf_knn__p=2, clf_knn__weights=uniform, score=0.619, total=   2.5s\n",
      "[CV] clf_knn__leaf_size=5, clf_knn__n_neighbors=5, clf_knn__p=2, clf_knn__weights=uniform \n",
      "[CV]  clf_knn__leaf_size=5, clf_knn__n_neighbors=5, clf_knn__p=2, clf_knn__weights=uniform, score=0.647, total=   2.4s\n",
      "[CV] clf_knn__leaf_size=5, clf_knn__n_neighbors=5, clf_knn__p=2, clf_knn__weights=distance \n",
      "[CV]  clf_knn__leaf_size=5, clf_knn__n_neighbors=5, clf_knn__p=2, clf_knn__weights=distance, score=0.655, total=   2.3s\n",
      "[CV] clf_knn__leaf_size=5, clf_knn__n_neighbors=5, clf_knn__p=2, clf_knn__weights=distance \n",
      "[CV]  clf_knn__leaf_size=5, clf_knn__n_neighbors=5, clf_knn__p=2, clf_knn__weights=distance, score=0.620, total=   2.4s\n",
      "[CV] clf_knn__leaf_size=5, clf_knn__n_neighbors=5, clf_knn__p=2, clf_knn__weights=distance \n",
      "[CV]  clf_knn__leaf_size=5, clf_knn__n_neighbors=5, clf_knn__p=2, clf_knn__weights=distance, score=0.648, total=   2.4s\n",
      "[CV] clf_knn__leaf_size=5, clf_knn__n_neighbors=6, clf_knn__p=1, clf_knn__weights=uniform \n",
      "[CV]  clf_knn__leaf_size=5, clf_knn__n_neighbors=6, clf_knn__p=1, clf_knn__weights=uniform, score=0.694, total=   2.6s\n",
      "[CV] clf_knn__leaf_size=5, clf_knn__n_neighbors=6, clf_knn__p=1, clf_knn__weights=uniform \n",
      "[CV]  clf_knn__leaf_size=5, clf_knn__n_neighbors=6, clf_knn__p=1, clf_knn__weights=uniform, score=0.669, total=   2.7s\n",
      "[CV] clf_knn__leaf_size=5, clf_knn__n_neighbors=6, clf_knn__p=1, clf_knn__weights=uniform \n",
      "[CV]  clf_knn__leaf_size=5, clf_knn__n_neighbors=6, clf_knn__p=1, clf_knn__weights=uniform, score=0.665, total=   2.6s\n",
      "[CV] clf_knn__leaf_size=5, clf_knn__n_neighbors=6, clf_knn__p=1, clf_knn__weights=distance \n",
      "[CV]  clf_knn__leaf_size=5, clf_knn__n_neighbors=6, clf_knn__p=1, clf_knn__weights=distance, score=0.699, total=   2.8s\n",
      "[CV] clf_knn__leaf_size=5, clf_knn__n_neighbors=6, clf_knn__p=1, clf_knn__weights=distance \n",
      "[CV]  clf_knn__leaf_size=5, clf_knn__n_neighbors=6, clf_knn__p=1, clf_knn__weights=distance, score=0.674, total=   2.7s\n",
      "[CV] clf_knn__leaf_size=5, clf_knn__n_neighbors=6, clf_knn__p=1, clf_knn__weights=distance \n",
      "[CV]  clf_knn__leaf_size=5, clf_knn__n_neighbors=6, clf_knn__p=1, clf_knn__weights=distance, score=0.667, total=   2.7s\n",
      "[CV] clf_knn__leaf_size=5, clf_knn__n_neighbors=6, clf_knn__p=2, clf_knn__weights=uniform \n",
      "[CV]  clf_knn__leaf_size=5, clf_knn__n_neighbors=6, clf_knn__p=2, clf_knn__weights=uniform, score=0.666, total=   2.6s\n",
      "[CV] clf_knn__leaf_size=5, clf_knn__n_neighbors=6, clf_knn__p=2, clf_knn__weights=uniform \n"
     ]
    },
    {
     "name": "stdout",
     "output_type": "stream",
     "text": [
      "[CV]  clf_knn__leaf_size=5, clf_knn__n_neighbors=6, clf_knn__p=2, clf_knn__weights=uniform, score=0.638, total=   2.7s\n",
      "[CV] clf_knn__leaf_size=5, clf_knn__n_neighbors=6, clf_knn__p=2, clf_knn__weights=uniform \n",
      "[CV]  clf_knn__leaf_size=5, clf_knn__n_neighbors=6, clf_knn__p=2, clf_knn__weights=uniform, score=0.652, total=   2.7s\n",
      "[CV] clf_knn__leaf_size=5, clf_knn__n_neighbors=6, clf_knn__p=2, clf_knn__weights=distance \n",
      "[CV]  clf_knn__leaf_size=5, clf_knn__n_neighbors=6, clf_knn__p=2, clf_knn__weights=distance, score=0.670, total=   2.6s\n",
      "[CV] clf_knn__leaf_size=5, clf_knn__n_neighbors=6, clf_knn__p=2, clf_knn__weights=distance \n",
      "[CV]  clf_knn__leaf_size=5, clf_knn__n_neighbors=6, clf_knn__p=2, clf_knn__weights=distance, score=0.638, total=   2.7s\n",
      "[CV] clf_knn__leaf_size=5, clf_knn__n_neighbors=6, clf_knn__p=2, clf_knn__weights=distance \n",
      "[CV]  clf_knn__leaf_size=5, clf_knn__n_neighbors=6, clf_knn__p=2, clf_knn__weights=distance, score=0.654, total=   2.5s\n",
      "[CV] clf_knn__leaf_size=10, clf_knn__n_neighbors=3, clf_knn__p=1, clf_knn__weights=uniform \n",
      "[CV]  clf_knn__leaf_size=10, clf_knn__n_neighbors=3, clf_knn__p=1, clf_knn__weights=uniform, score=0.674, total=   1.9s\n",
      "[CV] clf_knn__leaf_size=10, clf_knn__n_neighbors=3, clf_knn__p=1, clf_knn__weights=uniform \n",
      "[CV]  clf_knn__leaf_size=10, clf_knn__n_neighbors=3, clf_knn__p=1, clf_knn__weights=uniform, score=0.620, total=   1.7s\n",
      "[CV] clf_knn__leaf_size=10, clf_knn__n_neighbors=3, clf_knn__p=1, clf_knn__weights=uniform \n",
      "[CV]  clf_knn__leaf_size=10, clf_knn__n_neighbors=3, clf_knn__p=1, clf_knn__weights=uniform, score=0.642, total=   1.7s\n",
      "[CV] clf_knn__leaf_size=10, clf_knn__n_neighbors=3, clf_knn__p=1, clf_knn__weights=distance \n",
      "[CV]  clf_knn__leaf_size=10, clf_knn__n_neighbors=3, clf_knn__p=1, clf_knn__weights=distance, score=0.673, total=   1.7s\n",
      "[CV] clf_knn__leaf_size=10, clf_knn__n_neighbors=3, clf_knn__p=1, clf_knn__weights=distance \n",
      "[CV]  clf_knn__leaf_size=10, clf_knn__n_neighbors=3, clf_knn__p=1, clf_knn__weights=distance, score=0.622, total=   1.7s\n",
      "[CV] clf_knn__leaf_size=10, clf_knn__n_neighbors=3, clf_knn__p=1, clf_knn__weights=distance \n",
      "[CV]  clf_knn__leaf_size=10, clf_knn__n_neighbors=3, clf_knn__p=1, clf_knn__weights=distance, score=0.640, total=   1.7s\n",
      "[CV] clf_knn__leaf_size=10, clf_knn__n_neighbors=3, clf_knn__p=2, clf_knn__weights=uniform \n",
      "[CV]  clf_knn__leaf_size=10, clf_knn__n_neighbors=3, clf_knn__p=2, clf_knn__weights=uniform, score=0.640, total=   1.8s\n",
      "[CV] clf_knn__leaf_size=10, clf_knn__n_neighbors=3, clf_knn__p=2, clf_knn__weights=uniform \n",
      "[CV]  clf_knn__leaf_size=10, clf_knn__n_neighbors=3, clf_knn__p=2, clf_knn__weights=uniform, score=0.585, total=   1.8s\n",
      "[CV] clf_knn__leaf_size=10, clf_knn__n_neighbors=3, clf_knn__p=2, clf_knn__weights=uniform \n",
      "[CV]  clf_knn__leaf_size=10, clf_knn__n_neighbors=3, clf_knn__p=2, clf_knn__weights=uniform, score=0.625, total=   1.8s\n",
      "[CV] clf_knn__leaf_size=10, clf_knn__n_neighbors=3, clf_knn__p=2, clf_knn__weights=distance \n",
      "[CV]  clf_knn__leaf_size=10, clf_knn__n_neighbors=3, clf_knn__p=2, clf_knn__weights=distance, score=0.639, total=   1.8s\n",
      "[CV] clf_knn__leaf_size=10, clf_knn__n_neighbors=3, clf_knn__p=2, clf_knn__weights=distance \n",
      "[CV]  clf_knn__leaf_size=10, clf_knn__n_neighbors=3, clf_knn__p=2, clf_knn__weights=distance, score=0.588, total=   1.8s\n",
      "[CV] clf_knn__leaf_size=10, clf_knn__n_neighbors=3, clf_knn__p=2, clf_knn__weights=distance \n",
      "[CV]  clf_knn__leaf_size=10, clf_knn__n_neighbors=3, clf_knn__p=2, clf_knn__weights=distance, score=0.623, total=   1.8s\n",
      "[CV] clf_knn__leaf_size=10, clf_knn__n_neighbors=4, clf_knn__p=1, clf_knn__weights=uniform \n",
      "[CV]  clf_knn__leaf_size=10, clf_knn__n_neighbors=4, clf_knn__p=1, clf_knn__weights=uniform, score=0.682, total=   1.8s\n",
      "[CV] clf_knn__leaf_size=10, clf_knn__n_neighbors=4, clf_knn__p=1, clf_knn__weights=uniform \n",
      "[CV]  clf_knn__leaf_size=10, clf_knn__n_neighbors=4, clf_knn__p=1, clf_knn__weights=uniform, score=0.653, total=   1.9s\n",
      "[CV] clf_knn__leaf_size=10, clf_knn__n_neighbors=4, clf_knn__p=1, clf_knn__weights=uniform \n",
      "[CV]  clf_knn__leaf_size=10, clf_knn__n_neighbors=4, clf_knn__p=1, clf_knn__weights=uniform, score=0.652, total=   1.9s\n",
      "[CV] clf_knn__leaf_size=10, clf_knn__n_neighbors=4, clf_knn__p=1, clf_knn__weights=distance \n",
      "[CV]  clf_knn__leaf_size=10, clf_knn__n_neighbors=4, clf_knn__p=1, clf_knn__weights=distance, score=0.684, total=   1.8s\n",
      "[CV] clf_knn__leaf_size=10, clf_knn__n_neighbors=4, clf_knn__p=1, clf_knn__weights=distance \n",
      "[CV]  clf_knn__leaf_size=10, clf_knn__n_neighbors=4, clf_knn__p=1, clf_knn__weights=distance, score=0.654, total=   1.9s\n",
      "[CV] clf_knn__leaf_size=10, clf_knn__n_neighbors=4, clf_knn__p=1, clf_knn__weights=distance \n",
      "[CV]  clf_knn__leaf_size=10, clf_knn__n_neighbors=4, clf_knn__p=1, clf_knn__weights=distance, score=0.652, total=   1.8s\n",
      "[CV] clf_knn__leaf_size=10, clf_knn__n_neighbors=4, clf_knn__p=2, clf_knn__weights=uniform \n",
      "[CV]  clf_knn__leaf_size=10, clf_knn__n_neighbors=4, clf_knn__p=2, clf_knn__weights=uniform, score=0.654, total=   1.8s\n",
      "[CV] clf_knn__leaf_size=10, clf_knn__n_neighbors=4, clf_knn__p=2, clf_knn__weights=uniform \n",
      "[CV]  clf_knn__leaf_size=10, clf_knn__n_neighbors=4, clf_knn__p=2, clf_knn__weights=uniform, score=0.599, total=   1.9s\n",
      "[CV] clf_knn__leaf_size=10, clf_knn__n_neighbors=4, clf_knn__p=2, clf_knn__weights=uniform \n",
      "[CV]  clf_knn__leaf_size=10, clf_knn__n_neighbors=4, clf_knn__p=2, clf_knn__weights=uniform, score=0.646, total=   1.9s\n",
      "[CV] clf_knn__leaf_size=10, clf_knn__n_neighbors=4, clf_knn__p=2, clf_knn__weights=distance \n",
      "[CV]  clf_knn__leaf_size=10, clf_knn__n_neighbors=4, clf_knn__p=2, clf_knn__weights=distance, score=0.654, total=   1.9s\n",
      "[CV] clf_knn__leaf_size=10, clf_knn__n_neighbors=4, clf_knn__p=2, clf_knn__weights=distance \n",
      "[CV]  clf_knn__leaf_size=10, clf_knn__n_neighbors=4, clf_knn__p=2, clf_knn__weights=distance, score=0.602, total=   1.9s\n",
      "[CV] clf_knn__leaf_size=10, clf_knn__n_neighbors=4, clf_knn__p=2, clf_knn__weights=distance \n",
      "[CV]  clf_knn__leaf_size=10, clf_knn__n_neighbors=4, clf_knn__p=2, clf_knn__weights=distance, score=0.644, total=   1.9s\n",
      "[CV] clf_knn__leaf_size=10, clf_knn__n_neighbors=5, clf_knn__p=1, clf_knn__weights=uniform \n",
      "[CV]  clf_knn__leaf_size=10, clf_knn__n_neighbors=5, clf_knn__p=1, clf_knn__weights=uniform, score=0.690, total=   2.0s\n",
      "[CV] clf_knn__leaf_size=10, clf_knn__n_neighbors=5, clf_knn__p=1, clf_knn__weights=uniform \n",
      "[CV]  clf_knn__leaf_size=10, clf_knn__n_neighbors=5, clf_knn__p=1, clf_knn__weights=uniform, score=0.662, total=   2.3s\n",
      "[CV] clf_knn__leaf_size=10, clf_knn__n_neighbors=5, clf_knn__p=1, clf_knn__weights=uniform \n",
      "[CV]  clf_knn__leaf_size=10, clf_knn__n_neighbors=5, clf_knn__p=1, clf_knn__weights=uniform, score=0.656, total=   2.0s\n",
      "[CV] clf_knn__leaf_size=10, clf_knn__n_neighbors=5, clf_knn__p=1, clf_knn__weights=distance \n",
      "[CV]  clf_knn__leaf_size=10, clf_knn__n_neighbors=5, clf_knn__p=1, clf_knn__weights=distance, score=0.693, total=   2.0s\n",
      "[CV] clf_knn__leaf_size=10, clf_knn__n_neighbors=5, clf_knn__p=1, clf_knn__weights=distance \n",
      "[CV]  clf_knn__leaf_size=10, clf_knn__n_neighbors=5, clf_knn__p=1, clf_knn__weights=distance, score=0.664, total=   1.9s\n",
      "[CV] clf_knn__leaf_size=10, clf_knn__n_neighbors=5, clf_knn__p=1, clf_knn__weights=distance \n",
      "[CV]  clf_knn__leaf_size=10, clf_knn__n_neighbors=5, clf_knn__p=1, clf_knn__weights=distance, score=0.657, total=   2.1s\n",
      "[CV] clf_knn__leaf_size=10, clf_knn__n_neighbors=5, clf_knn__p=2, clf_knn__weights=uniform \n",
      "[CV]  clf_knn__leaf_size=10, clf_knn__n_neighbors=5, clf_knn__p=2, clf_knn__weights=uniform, score=0.651, total=   2.0s\n",
      "[CV] clf_knn__leaf_size=10, clf_knn__n_neighbors=5, clf_knn__p=2, clf_knn__weights=uniform \n",
      "[CV]  clf_knn__leaf_size=10, clf_knn__n_neighbors=5, clf_knn__p=2, clf_knn__weights=uniform, score=0.619, total=   2.0s\n",
      "[CV] clf_knn__leaf_size=10, clf_knn__n_neighbors=5, clf_knn__p=2, clf_knn__weights=uniform \n",
      "[CV]  clf_knn__leaf_size=10, clf_knn__n_neighbors=5, clf_knn__p=2, clf_knn__weights=uniform, score=0.647, total=   2.0s\n",
      "[CV] clf_knn__leaf_size=10, clf_knn__n_neighbors=5, clf_knn__p=2, clf_knn__weights=distance \n",
      "[CV]  clf_knn__leaf_size=10, clf_knn__n_neighbors=5, clf_knn__p=2, clf_knn__weights=distance, score=0.655, total=   2.0s\n",
      "[CV] clf_knn__leaf_size=10, clf_knn__n_neighbors=5, clf_knn__p=2, clf_knn__weights=distance \n"
     ]
    },
    {
     "name": "stdout",
     "output_type": "stream",
     "text": [
      "[CV]  clf_knn__leaf_size=10, clf_knn__n_neighbors=5, clf_knn__p=2, clf_knn__weights=distance, score=0.620, total=   2.0s\n",
      "[CV] clf_knn__leaf_size=10, clf_knn__n_neighbors=5, clf_knn__p=2, clf_knn__weights=distance \n",
      "[CV]  clf_knn__leaf_size=10, clf_knn__n_neighbors=5, clf_knn__p=2, clf_knn__weights=distance, score=0.648, total=   2.1s\n",
      "[CV] clf_knn__leaf_size=10, clf_knn__n_neighbors=6, clf_knn__p=1, clf_knn__weights=uniform \n",
      "[CV]  clf_knn__leaf_size=10, clf_knn__n_neighbors=6, clf_knn__p=1, clf_knn__weights=uniform, score=0.694, total=   2.2s\n",
      "[CV] clf_knn__leaf_size=10, clf_knn__n_neighbors=6, clf_knn__p=1, clf_knn__weights=uniform \n",
      "[CV]  clf_knn__leaf_size=10, clf_knn__n_neighbors=6, clf_knn__p=1, clf_knn__weights=uniform, score=0.669, total=   2.3s\n",
      "[CV] clf_knn__leaf_size=10, clf_knn__n_neighbors=6, clf_knn__p=1, clf_knn__weights=uniform \n",
      "[CV]  clf_knn__leaf_size=10, clf_knn__n_neighbors=6, clf_knn__p=1, clf_knn__weights=uniform, score=0.665, total=   2.3s\n",
      "[CV] clf_knn__leaf_size=10, clf_knn__n_neighbors=6, clf_knn__p=1, clf_knn__weights=distance \n",
      "[CV]  clf_knn__leaf_size=10, clf_knn__n_neighbors=6, clf_knn__p=1, clf_knn__weights=distance, score=0.699, total=   2.2s\n",
      "[CV] clf_knn__leaf_size=10, clf_knn__n_neighbors=6, clf_knn__p=1, clf_knn__weights=distance \n",
      "[CV]  clf_knn__leaf_size=10, clf_knn__n_neighbors=6, clf_knn__p=1, clf_knn__weights=distance, score=0.674, total=   2.2s\n",
      "[CV] clf_knn__leaf_size=10, clf_knn__n_neighbors=6, clf_knn__p=1, clf_knn__weights=distance \n",
      "[CV]  clf_knn__leaf_size=10, clf_knn__n_neighbors=6, clf_knn__p=1, clf_knn__weights=distance, score=0.667, total=   2.1s\n",
      "[CV] clf_knn__leaf_size=10, clf_knn__n_neighbors=6, clf_knn__p=2, clf_knn__weights=uniform \n",
      "[CV]  clf_knn__leaf_size=10, clf_knn__n_neighbors=6, clf_knn__p=2, clf_knn__weights=uniform, score=0.666, total=   2.0s\n",
      "[CV] clf_knn__leaf_size=10, clf_knn__n_neighbors=6, clf_knn__p=2, clf_knn__weights=uniform \n",
      "[CV]  clf_knn__leaf_size=10, clf_knn__n_neighbors=6, clf_knn__p=2, clf_knn__weights=uniform, score=0.638, total=   2.0s\n",
      "[CV] clf_knn__leaf_size=10, clf_knn__n_neighbors=6, clf_knn__p=2, clf_knn__weights=uniform \n",
      "[CV]  clf_knn__leaf_size=10, clf_knn__n_neighbors=6, clf_knn__p=2, clf_knn__weights=uniform, score=0.652, total=   2.0s\n",
      "[CV] clf_knn__leaf_size=10, clf_knn__n_neighbors=6, clf_knn__p=2, clf_knn__weights=distance \n",
      "[CV]  clf_knn__leaf_size=10, clf_knn__n_neighbors=6, clf_knn__p=2, clf_knn__weights=distance, score=0.670, total=   2.1s\n",
      "[CV] clf_knn__leaf_size=10, clf_knn__n_neighbors=6, clf_knn__p=2, clf_knn__weights=distance \n",
      "[CV]  clf_knn__leaf_size=10, clf_knn__n_neighbors=6, clf_knn__p=2, clf_knn__weights=distance, score=0.638, total=   2.0s\n",
      "[CV] clf_knn__leaf_size=10, clf_knn__n_neighbors=6, clf_knn__p=2, clf_knn__weights=distance \n",
      "[CV]  clf_knn__leaf_size=10, clf_knn__n_neighbors=6, clf_knn__p=2, clf_knn__weights=distance, score=0.654, total=   2.0s\n",
      "[CV] clf_knn__leaf_size=15, clf_knn__n_neighbors=3, clf_knn__p=1, clf_knn__weights=uniform \n",
      "[CV]  clf_knn__leaf_size=15, clf_knn__n_neighbors=3, clf_knn__p=1, clf_knn__weights=uniform, score=0.674, total=   1.8s\n",
      "[CV] clf_knn__leaf_size=15, clf_knn__n_neighbors=3, clf_knn__p=1, clf_knn__weights=uniform \n",
      "[CV]  clf_knn__leaf_size=15, clf_knn__n_neighbors=3, clf_knn__p=1, clf_knn__weights=uniform, score=0.620, total=   1.8s\n",
      "[CV] clf_knn__leaf_size=15, clf_knn__n_neighbors=3, clf_knn__p=1, clf_knn__weights=uniform \n",
      "[CV]  clf_knn__leaf_size=15, clf_knn__n_neighbors=3, clf_knn__p=1, clf_knn__weights=uniform, score=0.642, total=   1.7s\n",
      "[CV] clf_knn__leaf_size=15, clf_knn__n_neighbors=3, clf_knn__p=1, clf_knn__weights=distance \n",
      "[CV]  clf_knn__leaf_size=15, clf_knn__n_neighbors=3, clf_knn__p=1, clf_knn__weights=distance, score=0.673, total=   1.7s\n",
      "[CV] clf_knn__leaf_size=15, clf_knn__n_neighbors=3, clf_knn__p=1, clf_knn__weights=distance \n",
      "[CV]  clf_knn__leaf_size=15, clf_knn__n_neighbors=3, clf_knn__p=1, clf_knn__weights=distance, score=0.622, total=   1.8s\n",
      "[CV] clf_knn__leaf_size=15, clf_knn__n_neighbors=3, clf_knn__p=1, clf_knn__weights=distance \n",
      "[CV]  clf_knn__leaf_size=15, clf_knn__n_neighbors=3, clf_knn__p=1, clf_knn__weights=distance, score=0.640, total=   1.7s\n",
      "[CV] clf_knn__leaf_size=15, clf_knn__n_neighbors=3, clf_knn__p=2, clf_knn__weights=uniform \n",
      "[CV]  clf_knn__leaf_size=15, clf_knn__n_neighbors=3, clf_knn__p=2, clf_knn__weights=uniform, score=0.640, total=   1.8s\n",
      "[CV] clf_knn__leaf_size=15, clf_knn__n_neighbors=3, clf_knn__p=2, clf_knn__weights=uniform \n",
      "[CV]  clf_knn__leaf_size=15, clf_knn__n_neighbors=3, clf_knn__p=2, clf_knn__weights=uniform, score=0.585, total=   1.8s\n",
      "[CV] clf_knn__leaf_size=15, clf_knn__n_neighbors=3, clf_knn__p=2, clf_knn__weights=uniform \n",
      "[CV]  clf_knn__leaf_size=15, clf_knn__n_neighbors=3, clf_knn__p=2, clf_knn__weights=uniform, score=0.625, total=   1.8s\n",
      "[CV] clf_knn__leaf_size=15, clf_knn__n_neighbors=3, clf_knn__p=2, clf_knn__weights=distance \n",
      "[CV]  clf_knn__leaf_size=15, clf_knn__n_neighbors=3, clf_knn__p=2, clf_knn__weights=distance, score=0.639, total=   1.7s\n",
      "[CV] clf_knn__leaf_size=15, clf_knn__n_neighbors=3, clf_knn__p=2, clf_knn__weights=distance \n",
      "[CV]  clf_knn__leaf_size=15, clf_knn__n_neighbors=3, clf_knn__p=2, clf_knn__weights=distance, score=0.588, total=   1.8s\n",
      "[CV] clf_knn__leaf_size=15, clf_knn__n_neighbors=3, clf_knn__p=2, clf_knn__weights=distance \n",
      "[CV]  clf_knn__leaf_size=15, clf_knn__n_neighbors=3, clf_knn__p=2, clf_knn__weights=distance, score=0.623, total=   1.8s\n",
      "[CV] clf_knn__leaf_size=15, clf_knn__n_neighbors=4, clf_knn__p=1, clf_knn__weights=uniform \n",
      "[CV]  clf_knn__leaf_size=15, clf_knn__n_neighbors=4, clf_knn__p=1, clf_knn__weights=uniform, score=0.682, total=   1.8s\n",
      "[CV] clf_knn__leaf_size=15, clf_knn__n_neighbors=4, clf_knn__p=1, clf_knn__weights=uniform \n",
      "[CV]  clf_knn__leaf_size=15, clf_knn__n_neighbors=4, clf_knn__p=1, clf_knn__weights=uniform, score=0.653, total=   1.8s\n",
      "[CV] clf_knn__leaf_size=15, clf_knn__n_neighbors=4, clf_knn__p=1, clf_knn__weights=uniform \n",
      "[CV]  clf_knn__leaf_size=15, clf_knn__n_neighbors=4, clf_knn__p=1, clf_knn__weights=uniform, score=0.652, total=   1.8s\n",
      "[CV] clf_knn__leaf_size=15, clf_knn__n_neighbors=4, clf_knn__p=1, clf_knn__weights=distance \n",
      "[CV]  clf_knn__leaf_size=15, clf_knn__n_neighbors=4, clf_knn__p=1, clf_knn__weights=distance, score=0.684, total=   1.8s\n",
      "[CV] clf_knn__leaf_size=15, clf_knn__n_neighbors=4, clf_knn__p=1, clf_knn__weights=distance \n",
      "[CV]  clf_knn__leaf_size=15, clf_knn__n_neighbors=4, clf_knn__p=1, clf_knn__weights=distance, score=0.654, total=   2.0s\n",
      "[CV] clf_knn__leaf_size=15, clf_knn__n_neighbors=4, clf_knn__p=1, clf_knn__weights=distance \n",
      "[CV]  clf_knn__leaf_size=15, clf_knn__n_neighbors=4, clf_knn__p=1, clf_knn__weights=distance, score=0.652, total=   1.8s\n",
      "[CV] clf_knn__leaf_size=15, clf_knn__n_neighbors=4, clf_knn__p=2, clf_knn__weights=uniform \n",
      "[CV]  clf_knn__leaf_size=15, clf_knn__n_neighbors=4, clf_knn__p=2, clf_knn__weights=uniform, score=0.654, total=   2.2s\n",
      "[CV] clf_knn__leaf_size=15, clf_knn__n_neighbors=4, clf_knn__p=2, clf_knn__weights=uniform \n",
      "[CV]  clf_knn__leaf_size=15, clf_knn__n_neighbors=4, clf_knn__p=2, clf_knn__weights=uniform, score=0.599, total=   2.0s\n",
      "[CV] clf_knn__leaf_size=15, clf_knn__n_neighbors=4, clf_knn__p=2, clf_knn__weights=uniform \n",
      "[CV]  clf_knn__leaf_size=15, clf_knn__n_neighbors=4, clf_knn__p=2, clf_knn__weights=uniform, score=0.646, total=   1.9s\n",
      "[CV] clf_knn__leaf_size=15, clf_knn__n_neighbors=4, clf_knn__p=2, clf_knn__weights=distance \n",
      "[CV]  clf_knn__leaf_size=15, clf_knn__n_neighbors=4, clf_knn__p=2, clf_knn__weights=distance, score=0.654, total=   1.9s\n",
      "[CV] clf_knn__leaf_size=15, clf_knn__n_neighbors=4, clf_knn__p=2, clf_knn__weights=distance \n",
      "[CV]  clf_knn__leaf_size=15, clf_knn__n_neighbors=4, clf_knn__p=2, clf_knn__weights=distance, score=0.602, total=   2.3s\n",
      "[CV] clf_knn__leaf_size=15, clf_knn__n_neighbors=4, clf_knn__p=2, clf_knn__weights=distance \n",
      "[CV]  clf_knn__leaf_size=15, clf_knn__n_neighbors=4, clf_knn__p=2, clf_knn__weights=distance, score=0.644, total=   2.4s\n",
      "[CV] clf_knn__leaf_size=15, clf_knn__n_neighbors=5, clf_knn__p=1, clf_knn__weights=uniform \n",
      "[CV]  clf_knn__leaf_size=15, clf_knn__n_neighbors=5, clf_knn__p=1, clf_knn__weights=uniform, score=0.690, total=   2.7s\n",
      "[CV] clf_knn__leaf_size=15, clf_knn__n_neighbors=5, clf_knn__p=1, clf_knn__weights=uniform \n"
     ]
    },
    {
     "name": "stdout",
     "output_type": "stream",
     "text": [
      "[CV]  clf_knn__leaf_size=15, clf_knn__n_neighbors=5, clf_knn__p=1, clf_knn__weights=uniform, score=0.662, total=   2.4s\n",
      "[CV] clf_knn__leaf_size=15, clf_knn__n_neighbors=5, clf_knn__p=1, clf_knn__weights=uniform \n",
      "[CV]  clf_knn__leaf_size=15, clf_knn__n_neighbors=5, clf_knn__p=1, clf_knn__weights=uniform, score=0.656, total=   2.0s\n",
      "[CV] clf_knn__leaf_size=15, clf_knn__n_neighbors=5, clf_knn__p=1, clf_knn__weights=distance \n",
      "[CV]  clf_knn__leaf_size=15, clf_knn__n_neighbors=5, clf_knn__p=1, clf_knn__weights=distance, score=0.693, total=   2.1s\n",
      "[CV] clf_knn__leaf_size=15, clf_knn__n_neighbors=5, clf_knn__p=1, clf_knn__weights=distance \n",
      "[CV]  clf_knn__leaf_size=15, clf_knn__n_neighbors=5, clf_knn__p=1, clf_knn__weights=distance, score=0.664, total=   2.2s\n",
      "[CV] clf_knn__leaf_size=15, clf_knn__n_neighbors=5, clf_knn__p=1, clf_knn__weights=distance \n",
      "[CV]  clf_knn__leaf_size=15, clf_knn__n_neighbors=5, clf_knn__p=1, clf_knn__weights=distance, score=0.657, total=   2.0s\n",
      "[CV] clf_knn__leaf_size=15, clf_knn__n_neighbors=5, clf_knn__p=2, clf_knn__weights=uniform \n",
      "[CV]  clf_knn__leaf_size=15, clf_knn__n_neighbors=5, clf_knn__p=2, clf_knn__weights=uniform, score=0.651, total=   2.1s\n",
      "[CV] clf_knn__leaf_size=15, clf_knn__n_neighbors=5, clf_knn__p=2, clf_knn__weights=uniform \n",
      "[CV]  clf_knn__leaf_size=15, clf_knn__n_neighbors=5, clf_knn__p=2, clf_knn__weights=uniform, score=0.619, total=   2.0s\n",
      "[CV] clf_knn__leaf_size=15, clf_knn__n_neighbors=5, clf_knn__p=2, clf_knn__weights=uniform \n",
      "[CV]  clf_knn__leaf_size=15, clf_knn__n_neighbors=5, clf_knn__p=2, clf_knn__weights=uniform, score=0.647, total=   2.0s\n",
      "[CV] clf_knn__leaf_size=15, clf_knn__n_neighbors=5, clf_knn__p=2, clf_knn__weights=distance \n",
      "[CV]  clf_knn__leaf_size=15, clf_knn__n_neighbors=5, clf_knn__p=2, clf_knn__weights=distance, score=0.655, total=   2.0s\n",
      "[CV] clf_knn__leaf_size=15, clf_knn__n_neighbors=5, clf_knn__p=2, clf_knn__weights=distance \n",
      "[CV]  clf_knn__leaf_size=15, clf_knn__n_neighbors=5, clf_knn__p=2, clf_knn__weights=distance, score=0.620, total=   2.0s\n",
      "[CV] clf_knn__leaf_size=15, clf_knn__n_neighbors=5, clf_knn__p=2, clf_knn__weights=distance \n",
      "[CV]  clf_knn__leaf_size=15, clf_knn__n_neighbors=5, clf_knn__p=2, clf_knn__weights=distance, score=0.648, total=   1.9s\n",
      "[CV] clf_knn__leaf_size=15, clf_knn__n_neighbors=6, clf_knn__p=1, clf_knn__weights=uniform \n",
      "[CV]  clf_knn__leaf_size=15, clf_knn__n_neighbors=6, clf_knn__p=1, clf_knn__weights=uniform, score=0.694, total=   2.2s\n",
      "[CV] clf_knn__leaf_size=15, clf_knn__n_neighbors=6, clf_knn__p=1, clf_knn__weights=uniform \n",
      "[CV]  clf_knn__leaf_size=15, clf_knn__n_neighbors=6, clf_knn__p=1, clf_knn__weights=uniform, score=0.669, total=   2.2s\n",
      "[CV] clf_knn__leaf_size=15, clf_knn__n_neighbors=6, clf_knn__p=1, clf_knn__weights=uniform \n",
      "[CV]  clf_knn__leaf_size=15, clf_knn__n_neighbors=6, clf_knn__p=1, clf_knn__weights=uniform, score=0.665, total=   2.3s\n",
      "[CV] clf_knn__leaf_size=15, clf_knn__n_neighbors=6, clf_knn__p=1, clf_knn__weights=distance \n",
      "[CV]  clf_knn__leaf_size=15, clf_knn__n_neighbors=6, clf_knn__p=1, clf_knn__weights=distance, score=0.699, total=   2.1s\n",
      "[CV] clf_knn__leaf_size=15, clf_knn__n_neighbors=6, clf_knn__p=1, clf_knn__weights=distance \n",
      "[CV]  clf_knn__leaf_size=15, clf_knn__n_neighbors=6, clf_knn__p=1, clf_knn__weights=distance, score=0.674, total=   2.1s\n",
      "[CV] clf_knn__leaf_size=15, clf_knn__n_neighbors=6, clf_knn__p=1, clf_knn__weights=distance \n",
      "[CV]  clf_knn__leaf_size=15, clf_knn__n_neighbors=6, clf_knn__p=1, clf_knn__weights=distance, score=0.667, total=   2.3s\n",
      "[CV] clf_knn__leaf_size=15, clf_knn__n_neighbors=6, clf_knn__p=2, clf_knn__weights=uniform \n",
      "[CV]  clf_knn__leaf_size=15, clf_knn__n_neighbors=6, clf_knn__p=2, clf_knn__weights=uniform, score=0.666, total=   2.0s\n",
      "[CV] clf_knn__leaf_size=15, clf_knn__n_neighbors=6, clf_knn__p=2, clf_knn__weights=uniform \n",
      "[CV]  clf_knn__leaf_size=15, clf_knn__n_neighbors=6, clf_knn__p=2, clf_knn__weights=uniform, score=0.638, total=   2.0s\n",
      "[CV] clf_knn__leaf_size=15, clf_knn__n_neighbors=6, clf_knn__p=2, clf_knn__weights=uniform \n",
      "[CV]  clf_knn__leaf_size=15, clf_knn__n_neighbors=6, clf_knn__p=2, clf_knn__weights=uniform, score=0.652, total=   2.0s\n",
      "[CV] clf_knn__leaf_size=15, clf_knn__n_neighbors=6, clf_knn__p=2, clf_knn__weights=distance \n",
      "[CV]  clf_knn__leaf_size=15, clf_knn__n_neighbors=6, clf_knn__p=2, clf_knn__weights=distance, score=0.670, total=   2.0s\n",
      "[CV] clf_knn__leaf_size=15, clf_knn__n_neighbors=6, clf_knn__p=2, clf_knn__weights=distance \n",
      "[CV]  clf_knn__leaf_size=15, clf_knn__n_neighbors=6, clf_knn__p=2, clf_knn__weights=distance, score=0.638, total=   2.0s\n",
      "[CV] clf_knn__leaf_size=15, clf_knn__n_neighbors=6, clf_knn__p=2, clf_knn__weights=distance \n",
      "[CV]  clf_knn__leaf_size=15, clf_knn__n_neighbors=6, clf_knn__p=2, clf_knn__weights=distance, score=0.654, total=   2.0s\n"
     ]
    },
    {
     "name": "stderr",
     "output_type": "stream",
     "text": [
      "[Parallel(n_jobs=1)]: Done 144 out of 144 | elapsed:  5.0min finished\n"
     ]
    },
    {
     "name": "stdout",
     "output_type": "stream",
     "text": [
      "Train AUC Score: 0.68\n",
      "Using the following parameters: {'clf_knn__leaf_size': 5, 'clf_knn__n_neighbors': 6, 'clf_knn__p': 1, 'clf_knn__weights': 'distance'}\n",
      "\n",
      "\n"
     ]
    }
   ],
   "source": [
    "grid_search(pipe_knn, param_grid_knn)"
   ]
  },
  {
   "cell_type": "code",
   "execution_count": 164,
   "metadata": {},
   "outputs": [],
   "source": [
    "clf_knn_best = KNeighborsClassifier(n_neighbors=6, leaf_size=5, p=1, weights='distance')"
   ]
  },
  {
   "cell_type": "code",
   "execution_count": 165,
   "metadata": {},
   "outputs": [
    {
     "name": "stdout",
     "output_type": "stream",
     "text": [
      "[0.7882211  0.73408856 0.75576827 0.70750275 0.68871485]\n",
      "AUC Mean Score 73.49 +/- 3.51\n"
     ]
    }
   ],
   "source": [
    "crossvalscore(clf_knn_best)"
   ]
  },
  {
   "cell_type": "markdown",
   "metadata": {},
   "source": [
    "### Random Forest"
   ]
  },
  {
   "cell_type": "code",
   "execution_count": 158,
   "metadata": {
    "scrolled": true
   },
   "outputs": [
    {
     "name": "stdout",
     "output_type": "stream",
     "text": [
      "Fitting 3 folds for each of 36 candidates, totalling 108 fits\n",
      "[CV] max_features=sqrt, min_samples_leaf=2, n_estimators=10 ..........\n",
      "[CV]  max_features=sqrt, min_samples_leaf=2, n_estimators=10, score=0.840, total=   0.1s\n",
      "[CV] max_features=sqrt, min_samples_leaf=2, n_estimators=10 ..........\n"
     ]
    },
    {
     "name": "stderr",
     "output_type": "stream",
     "text": [
      "[Parallel(n_jobs=1)]: Using backend SequentialBackend with 1 concurrent workers.\n",
      "[Parallel(n_jobs=1)]: Done   1 out of   1 | elapsed:    0.0s remaining:    0.0s\n"
     ]
    },
    {
     "name": "stdout",
     "output_type": "stream",
     "text": [
      "[CV]  max_features=sqrt, min_samples_leaf=2, n_estimators=10, score=0.819, total=   0.1s\n",
      "[CV] max_features=sqrt, min_samples_leaf=2, n_estimators=10 ..........\n",
      "[CV]  max_features=sqrt, min_samples_leaf=2, n_estimators=10, score=0.800, total=   0.1s\n",
      "[CV] max_features=sqrt, min_samples_leaf=2, n_estimators=20 ..........\n"
     ]
    },
    {
     "name": "stderr",
     "output_type": "stream",
     "text": [
      "[Parallel(n_jobs=1)]: Done   2 out of   2 | elapsed:    0.1s remaining:    0.0s\n",
      "[Parallel(n_jobs=1)]: Done   3 out of   3 | elapsed:    0.2s remaining:    0.0s\n"
     ]
    },
    {
     "name": "stdout",
     "output_type": "stream",
     "text": [
      "[CV]  max_features=sqrt, min_samples_leaf=2, n_estimators=20, score=0.840, total=   0.1s\n",
      "[CV] max_features=sqrt, min_samples_leaf=2, n_estimators=20 ..........\n",
      "[CV]  max_features=sqrt, min_samples_leaf=2, n_estimators=20, score=0.824, total=   0.1s\n",
      "[CV] max_features=sqrt, min_samples_leaf=2, n_estimators=20 ..........\n"
     ]
    },
    {
     "name": "stderr",
     "output_type": "stream",
     "text": [
      "[Parallel(n_jobs=1)]: Done   4 out of   4 | elapsed:    0.3s remaining:    0.0s\n"
     ]
    },
    {
     "name": "stdout",
     "output_type": "stream",
     "text": [
      "[CV]  max_features=sqrt, min_samples_leaf=2, n_estimators=20, score=0.813, total=   0.2s\n",
      "[CV] max_features=sqrt, min_samples_leaf=2, n_estimators=50 ..........\n",
      "[CV]  max_features=sqrt, min_samples_leaf=2, n_estimators=50, score=0.857, total=   0.4s\n",
      "[CV] max_features=sqrt, min_samples_leaf=2, n_estimators=50 ..........\n",
      "[CV]  max_features=sqrt, min_samples_leaf=2, n_estimators=50, score=0.836, total=   0.3s\n",
      "[CV] max_features=sqrt, min_samples_leaf=2, n_estimators=50 ..........\n",
      "[CV]  max_features=sqrt, min_samples_leaf=2, n_estimators=50, score=0.818, total=   0.3s\n",
      "[CV] max_features=sqrt, min_samples_leaf=2, n_estimators=100 .........\n",
      "[CV]  max_features=sqrt, min_samples_leaf=2, n_estimators=100, score=0.859, total=   0.6s\n",
      "[CV] max_features=sqrt, min_samples_leaf=2, n_estimators=100 .........\n",
      "[CV]  max_features=sqrt, min_samples_leaf=2, n_estimators=100, score=0.841, total=   0.6s\n",
      "[CV] max_features=sqrt, min_samples_leaf=2, n_estimators=100 .........\n",
      "[CV]  max_features=sqrt, min_samples_leaf=2, n_estimators=100, score=0.823, total=   0.7s\n",
      "[CV] max_features=sqrt, min_samples_leaf=2, n_estimators=150 .........\n",
      "[CV]  max_features=sqrt, min_samples_leaf=2, n_estimators=150, score=0.857, total=   0.9s\n",
      "[CV] max_features=sqrt, min_samples_leaf=2, n_estimators=150 .........\n",
      "[CV]  max_features=sqrt, min_samples_leaf=2, n_estimators=150, score=0.844, total=   0.9s\n",
      "[CV] max_features=sqrt, min_samples_leaf=2, n_estimators=150 .........\n",
      "[CV]  max_features=sqrt, min_samples_leaf=2, n_estimators=150, score=0.829, total=   0.9s\n",
      "[CV] max_features=sqrt, min_samples_leaf=2, n_estimators=200 .........\n",
      "[CV]  max_features=sqrt, min_samples_leaf=2, n_estimators=200, score=0.858, total=   1.2s\n",
      "[CV] max_features=sqrt, min_samples_leaf=2, n_estimators=200 .........\n",
      "[CV]  max_features=sqrt, min_samples_leaf=2, n_estimators=200, score=0.842, total=   1.2s\n",
      "[CV] max_features=sqrt, min_samples_leaf=2, n_estimators=200 .........\n",
      "[CV]  max_features=sqrt, min_samples_leaf=2, n_estimators=200, score=0.828, total=   1.0s\n",
      "[CV] max_features=sqrt, min_samples_leaf=5, n_estimators=10 ..........\n",
      "[CV]  max_features=sqrt, min_samples_leaf=5, n_estimators=10, score=0.829, total=   0.1s\n",
      "[CV] max_features=sqrt, min_samples_leaf=5, n_estimators=10 ..........\n",
      "[CV]  max_features=sqrt, min_samples_leaf=5, n_estimators=10, score=0.809, total=   0.1s\n",
      "[CV] max_features=sqrt, min_samples_leaf=5, n_estimators=10 ..........\n",
      "[CV]  max_features=sqrt, min_samples_leaf=5, n_estimators=10, score=0.812, total=   0.1s\n",
      "[CV] max_features=sqrt, min_samples_leaf=5, n_estimators=20 ..........\n",
      "[CV]  max_features=sqrt, min_samples_leaf=5, n_estimators=20, score=0.853, total=   0.1s\n",
      "[CV] max_features=sqrt, min_samples_leaf=5, n_estimators=20 ..........\n",
      "[CV]  max_features=sqrt, min_samples_leaf=5, n_estimators=20, score=0.813, total=   0.1s\n",
      "[CV] max_features=sqrt, min_samples_leaf=5, n_estimators=20 ..........\n",
      "[CV]  max_features=sqrt, min_samples_leaf=5, n_estimators=20, score=0.815, total=   0.1s\n",
      "[CV] max_features=sqrt, min_samples_leaf=5, n_estimators=50 ..........\n",
      "[CV]  max_features=sqrt, min_samples_leaf=5, n_estimators=50, score=0.856, total=   0.2s\n",
      "[CV] max_features=sqrt, min_samples_leaf=5, n_estimators=50 ..........\n",
      "[CV]  max_features=sqrt, min_samples_leaf=5, n_estimators=50, score=0.832, total=   0.3s\n",
      "[CV] max_features=sqrt, min_samples_leaf=5, n_estimators=50 ..........\n",
      "[CV]  max_features=sqrt, min_samples_leaf=5, n_estimators=50, score=0.824, total=   0.2s\n",
      "[CV] max_features=sqrt, min_samples_leaf=5, n_estimators=100 .........\n",
      "[CV]  max_features=sqrt, min_samples_leaf=5, n_estimators=100, score=0.858, total=   0.5s\n",
      "[CV] max_features=sqrt, min_samples_leaf=5, n_estimators=100 .........\n",
      "[CV]  max_features=sqrt, min_samples_leaf=5, n_estimators=100, score=0.839, total=   0.5s\n",
      "[CV] max_features=sqrt, min_samples_leaf=5, n_estimators=100 .........\n",
      "[CV]  max_features=sqrt, min_samples_leaf=5, n_estimators=100, score=0.825, total=   0.5s\n",
      "[CV] max_features=sqrt, min_samples_leaf=5, n_estimators=150 .........\n",
      "[CV]  max_features=sqrt, min_samples_leaf=5, n_estimators=150, score=0.860, total=   0.8s\n",
      "[CV] max_features=sqrt, min_samples_leaf=5, n_estimators=150 .........\n",
      "[CV]  max_features=sqrt, min_samples_leaf=5, n_estimators=150, score=0.841, total=   0.7s\n",
      "[CV] max_features=sqrt, min_samples_leaf=5, n_estimators=150 .........\n",
      "[CV]  max_features=sqrt, min_samples_leaf=5, n_estimators=150, score=0.828, total=   0.7s\n",
      "[CV] max_features=sqrt, min_samples_leaf=5, n_estimators=200 .........\n",
      "[CV]  max_features=sqrt, min_samples_leaf=5, n_estimators=200, score=0.861, total=   1.0s\n",
      "[CV] max_features=sqrt, min_samples_leaf=5, n_estimators=200 .........\n",
      "[CV]  max_features=sqrt, min_samples_leaf=5, n_estimators=200, score=0.841, total=   1.0s\n",
      "[CV] max_features=sqrt, min_samples_leaf=5, n_estimators=200 .........\n",
      "[CV]  max_features=sqrt, min_samples_leaf=5, n_estimators=200, score=0.830, total=   1.0s\n",
      "[CV] max_features=sqrt, min_samples_leaf=10, n_estimators=10 .........\n",
      "[CV]  max_features=sqrt, min_samples_leaf=10, n_estimators=10, score=0.838, total=   0.1s\n",
      "[CV] max_features=sqrt, min_samples_leaf=10, n_estimators=10 .........\n",
      "[CV]  max_features=sqrt, min_samples_leaf=10, n_estimators=10, score=0.810, total=   0.1s\n",
      "[CV] max_features=sqrt, min_samples_leaf=10, n_estimators=10 .........\n",
      "[CV]  max_features=sqrt, min_samples_leaf=10, n_estimators=10, score=0.809, total=   0.1s\n",
      "[CV] max_features=sqrt, min_samples_leaf=10, n_estimators=20 .........\n",
      "[CV]  max_features=sqrt, min_samples_leaf=10, n_estimators=20, score=0.838, total=   0.1s\n",
      "[CV] max_features=sqrt, min_samples_leaf=10, n_estimators=20 .........\n",
      "[CV]  max_features=sqrt, min_samples_leaf=10, n_estimators=20, score=0.823, total=   0.1s\n",
      "[CV] max_features=sqrt, min_samples_leaf=10, n_estimators=20 .........\n",
      "[CV]  max_features=sqrt, min_samples_leaf=10, n_estimators=20, score=0.817, total=   0.1s\n",
      "[CV] max_features=sqrt, min_samples_leaf=10, n_estimators=50 .........\n",
      "[CV]  max_features=sqrt, min_samples_leaf=10, n_estimators=50, score=0.851, total=   0.2s\n",
      "[CV] max_features=sqrt, min_samples_leaf=10, n_estimators=50 .........\n",
      "[CV]  max_features=sqrt, min_samples_leaf=10, n_estimators=50, score=0.836, total=   0.2s\n",
      "[CV] max_features=sqrt, min_samples_leaf=10, n_estimators=50 .........\n",
      "[CV]  max_features=sqrt, min_samples_leaf=10, n_estimators=50, score=0.823, total=   0.2s\n",
      "[CV] max_features=sqrt, min_samples_leaf=10, n_estimators=100 ........\n",
      "[CV]  max_features=sqrt, min_samples_leaf=10, n_estimators=100, score=0.850, total=   0.4s\n",
      "[CV] max_features=sqrt, min_samples_leaf=10, n_estimators=100 ........\n",
      "[CV]  max_features=sqrt, min_samples_leaf=10, n_estimators=100, score=0.840, total=   0.4s\n",
      "[CV] max_features=sqrt, min_samples_leaf=10, n_estimators=100 ........\n",
      "[CV]  max_features=sqrt, min_samples_leaf=10, n_estimators=100, score=0.822, total=   0.4s\n",
      "[CV] max_features=sqrt, min_samples_leaf=10, n_estimators=150 ........\n",
      "[CV]  max_features=sqrt, min_samples_leaf=10, n_estimators=150, score=0.851, total=   0.6s\n",
      "[CV] max_features=sqrt, min_samples_leaf=10, n_estimators=150 ........\n",
      "[CV]  max_features=sqrt, min_samples_leaf=10, n_estimators=150, score=0.838, total=   0.7s\n",
      "[CV] max_features=sqrt, min_samples_leaf=10, n_estimators=150 ........\n",
      "[CV]  max_features=sqrt, min_samples_leaf=10, n_estimators=150, score=0.822, total=   0.6s\n",
      "[CV] max_features=sqrt, min_samples_leaf=10, n_estimators=200 ........\n",
      "[CV]  max_features=sqrt, min_samples_leaf=10, n_estimators=200, score=0.852, total=   0.8s\n",
      "[CV] max_features=sqrt, min_samples_leaf=10, n_estimators=200 ........\n",
      "[CV]  max_features=sqrt, min_samples_leaf=10, n_estimators=200, score=0.836, total=   0.8s\n",
      "[CV] max_features=sqrt, min_samples_leaf=10, n_estimators=200 ........\n",
      "[CV]  max_features=sqrt, min_samples_leaf=10, n_estimators=200, score=0.824, total=   0.8s\n",
      "[CV] max_features=log2, min_samples_leaf=2, n_estimators=10 ..........\n",
      "[CV]  max_features=log2, min_samples_leaf=2, n_estimators=10, score=0.837, total=   0.1s\n",
      "[CV] max_features=log2, min_samples_leaf=2, n_estimators=10 ..........\n",
      "[CV]  max_features=log2, min_samples_leaf=2, n_estimators=10, score=0.808, total=   0.1s\n",
      "[CV] max_features=log2, min_samples_leaf=2, n_estimators=10 ..........\n",
      "[CV]  max_features=log2, min_samples_leaf=2, n_estimators=10, score=0.819, total=   0.1s\n",
      "[CV] max_features=log2, min_samples_leaf=2, n_estimators=20 ..........\n"
     ]
    },
    {
     "name": "stdout",
     "output_type": "stream",
     "text": [
      "[CV]  max_features=log2, min_samples_leaf=2, n_estimators=20, score=0.849, total=   0.1s\n",
      "[CV] max_features=log2, min_samples_leaf=2, n_estimators=20 ..........\n",
      "[CV]  max_features=log2, min_samples_leaf=2, n_estimators=20, score=0.816, total=   0.1s\n",
      "[CV] max_features=log2, min_samples_leaf=2, n_estimators=20 ..........\n",
      "[CV]  max_features=log2, min_samples_leaf=2, n_estimators=20, score=0.819, total=   0.1s\n",
      "[CV] max_features=log2, min_samples_leaf=2, n_estimators=50 ..........\n",
      "[CV]  max_features=log2, min_samples_leaf=2, n_estimators=50, score=0.856, total=   0.3s\n",
      "[CV] max_features=log2, min_samples_leaf=2, n_estimators=50 ..........\n",
      "[CV]  max_features=log2, min_samples_leaf=2, n_estimators=50, score=0.834, total=   0.2s\n",
      "[CV] max_features=log2, min_samples_leaf=2, n_estimators=50 ..........\n",
      "[CV]  max_features=log2, min_samples_leaf=2, n_estimators=50, score=0.819, total=   0.3s\n",
      "[CV] max_features=log2, min_samples_leaf=2, n_estimators=100 .........\n",
      "[CV]  max_features=log2, min_samples_leaf=2, n_estimators=100, score=0.860, total=   0.5s\n",
      "[CV] max_features=log2, min_samples_leaf=2, n_estimators=100 .........\n",
      "[CV]  max_features=log2, min_samples_leaf=2, n_estimators=100, score=0.841, total=   0.5s\n",
      "[CV] max_features=log2, min_samples_leaf=2, n_estimators=100 .........\n",
      "[CV]  max_features=log2, min_samples_leaf=2, n_estimators=100, score=0.822, total=   0.5s\n",
      "[CV] max_features=log2, min_samples_leaf=2, n_estimators=150 .........\n",
      "[CV]  max_features=log2, min_samples_leaf=2, n_estimators=150, score=0.861, total=   0.7s\n",
      "[CV] max_features=log2, min_samples_leaf=2, n_estimators=150 .........\n",
      "[CV]  max_features=log2, min_samples_leaf=2, n_estimators=150, score=0.842, total=   0.7s\n",
      "[CV] max_features=log2, min_samples_leaf=2, n_estimators=150 .........\n",
      "[CV]  max_features=log2, min_samples_leaf=2, n_estimators=150, score=0.826, total=   0.8s\n",
      "[CV] max_features=log2, min_samples_leaf=2, n_estimators=200 .........\n",
      "[CV]  max_features=log2, min_samples_leaf=2, n_estimators=200, score=0.862, total=   1.0s\n",
      "[CV] max_features=log2, min_samples_leaf=2, n_estimators=200 .........\n",
      "[CV]  max_features=log2, min_samples_leaf=2, n_estimators=200, score=0.840, total=   1.0s\n",
      "[CV] max_features=log2, min_samples_leaf=2, n_estimators=200 .........\n",
      "[CV]  max_features=log2, min_samples_leaf=2, n_estimators=200, score=0.826, total=   1.0s\n",
      "[CV] max_features=log2, min_samples_leaf=5, n_estimators=10 ..........\n",
      "[CV]  max_features=log2, min_samples_leaf=5, n_estimators=10, score=0.814, total=   0.1s\n",
      "[CV] max_features=log2, min_samples_leaf=5, n_estimators=10 ..........\n",
      "[CV]  max_features=log2, min_samples_leaf=5, n_estimators=10, score=0.820, total=   0.1s\n",
      "[CV] max_features=log2, min_samples_leaf=5, n_estimators=10 ..........\n",
      "[CV]  max_features=log2, min_samples_leaf=5, n_estimators=10, score=0.795, total=   0.1s\n",
      "[CV] max_features=log2, min_samples_leaf=5, n_estimators=20 ..........\n",
      "[CV]  max_features=log2, min_samples_leaf=5, n_estimators=20, score=0.821, total=   0.1s\n",
      "[CV] max_features=log2, min_samples_leaf=5, n_estimators=20 ..........\n",
      "[CV]  max_features=log2, min_samples_leaf=5, n_estimators=20, score=0.836, total=   0.1s\n",
      "[CV] max_features=log2, min_samples_leaf=5, n_estimators=20 ..........\n",
      "[CV]  max_features=log2, min_samples_leaf=5, n_estimators=20, score=0.813, total=   0.1s\n",
      "[CV] max_features=log2, min_samples_leaf=5, n_estimators=50 ..........\n",
      "[CV]  max_features=log2, min_samples_leaf=5, n_estimators=50, score=0.837, total=   0.2s\n",
      "[CV] max_features=log2, min_samples_leaf=5, n_estimators=50 ..........\n",
      "[CV]  max_features=log2, min_samples_leaf=5, n_estimators=50, score=0.841, total=   0.2s\n",
      "[CV] max_features=log2, min_samples_leaf=5, n_estimators=50 ..........\n",
      "[CV]  max_features=log2, min_samples_leaf=5, n_estimators=50, score=0.822, total=   0.2s\n",
      "[CV] max_features=log2, min_samples_leaf=5, n_estimators=100 .........\n",
      "[CV]  max_features=log2, min_samples_leaf=5, n_estimators=100, score=0.848, total=   0.4s\n",
      "[CV] max_features=log2, min_samples_leaf=5, n_estimators=100 .........\n",
      "[CV]  max_features=log2, min_samples_leaf=5, n_estimators=100, score=0.846, total=   0.4s\n",
      "[CV] max_features=log2, min_samples_leaf=5, n_estimators=100 .........\n",
      "[CV]  max_features=log2, min_samples_leaf=5, n_estimators=100, score=0.825, total=   0.4s\n",
      "[CV] max_features=log2, min_samples_leaf=5, n_estimators=150 .........\n",
      "[CV]  max_features=log2, min_samples_leaf=5, n_estimators=150, score=0.852, total=   0.6s\n",
      "[CV] max_features=log2, min_samples_leaf=5, n_estimators=150 .........\n",
      "[CV]  max_features=log2, min_samples_leaf=5, n_estimators=150, score=0.846, total=   0.6s\n",
      "[CV] max_features=log2, min_samples_leaf=5, n_estimators=150 .........\n",
      "[CV]  max_features=log2, min_samples_leaf=5, n_estimators=150, score=0.829, total=   0.6s\n",
      "[CV] max_features=log2, min_samples_leaf=5, n_estimators=200 .........\n",
      "[CV]  max_features=log2, min_samples_leaf=5, n_estimators=200, score=0.852, total=   0.8s\n",
      "[CV] max_features=log2, min_samples_leaf=5, n_estimators=200 .........\n",
      "[CV]  max_features=log2, min_samples_leaf=5, n_estimators=200, score=0.845, total=   0.8s\n",
      "[CV] max_features=log2, min_samples_leaf=5, n_estimators=200 .........\n",
      "[CV]  max_features=log2, min_samples_leaf=5, n_estimators=200, score=0.828, total=   0.9s\n",
      "[CV] max_features=log2, min_samples_leaf=10, n_estimators=10 .........\n",
      "[CV]  max_features=log2, min_samples_leaf=10, n_estimators=10, score=0.818, total=   0.0s\n",
      "[CV] max_features=log2, min_samples_leaf=10, n_estimators=10 .........\n",
      "[CV]  max_features=log2, min_samples_leaf=10, n_estimators=10, score=0.820, total=   0.0s\n",
      "[CV] max_features=log2, min_samples_leaf=10, n_estimators=10 .........\n",
      "[CV]  max_features=log2, min_samples_leaf=10, n_estimators=10, score=0.792, total=   0.1s\n",
      "[CV] max_features=log2, min_samples_leaf=10, n_estimators=20 .........\n",
      "[CV]  max_features=log2, min_samples_leaf=10, n_estimators=20, score=0.834, total=   0.1s\n",
      "[CV] max_features=log2, min_samples_leaf=10, n_estimators=20 .........\n",
      "[CV]  max_features=log2, min_samples_leaf=10, n_estimators=20, score=0.820, total=   0.1s\n",
      "[CV] max_features=log2, min_samples_leaf=10, n_estimators=20 .........\n",
      "[CV]  max_features=log2, min_samples_leaf=10, n_estimators=20, score=0.801, total=   0.1s\n",
      "[CV] max_features=log2, min_samples_leaf=10, n_estimators=50 .........\n",
      "[CV]  max_features=log2, min_samples_leaf=10, n_estimators=50, score=0.842, total=   0.2s\n",
      "[CV] max_features=log2, min_samples_leaf=10, n_estimators=50 .........\n",
      "[CV]  max_features=log2, min_samples_leaf=10, n_estimators=50, score=0.829, total=   0.2s\n",
      "[CV] max_features=log2, min_samples_leaf=10, n_estimators=50 .........\n",
      "[CV]  max_features=log2, min_samples_leaf=10, n_estimators=50, score=0.806, total=   0.2s\n",
      "[CV] max_features=log2, min_samples_leaf=10, n_estimators=100 ........\n",
      "[CV]  max_features=log2, min_samples_leaf=10, n_estimators=100, score=0.847, total=   0.3s\n",
      "[CV] max_features=log2, min_samples_leaf=10, n_estimators=100 ........\n",
      "[CV]  max_features=log2, min_samples_leaf=10, n_estimators=100, score=0.836, total=   0.3s\n",
      "[CV] max_features=log2, min_samples_leaf=10, n_estimators=100 ........\n",
      "[CV]  max_features=log2, min_samples_leaf=10, n_estimators=100, score=0.808, total=   0.3s\n",
      "[CV] max_features=log2, min_samples_leaf=10, n_estimators=150 ........\n",
      "[CV]  max_features=log2, min_samples_leaf=10, n_estimators=150, score=0.849, total=   0.5s\n",
      "[CV] max_features=log2, min_samples_leaf=10, n_estimators=150 ........\n",
      "[CV]  max_features=log2, min_samples_leaf=10, n_estimators=150, score=0.838, total=   0.5s\n",
      "[CV] max_features=log2, min_samples_leaf=10, n_estimators=150 ........\n",
      "[CV]  max_features=log2, min_samples_leaf=10, n_estimators=150, score=0.812, total=   0.5s\n",
      "[CV] max_features=log2, min_samples_leaf=10, n_estimators=200 ........\n",
      "[CV]  max_features=log2, min_samples_leaf=10, n_estimators=200, score=0.850, total=   0.7s\n",
      "[CV] max_features=log2, min_samples_leaf=10, n_estimators=200 ........\n",
      "[CV]  max_features=log2, min_samples_leaf=10, n_estimators=200, score=0.838, total=   0.7s\n",
      "[CV] max_features=log2, min_samples_leaf=10, n_estimators=200 ........\n",
      "[CV]  max_features=log2, min_samples_leaf=10, n_estimators=200, score=0.814, total=   0.7s\n"
     ]
    },
    {
     "name": "stderr",
     "output_type": "stream",
     "text": [
      "[Parallel(n_jobs=1)]: Done 108 out of 108 | elapsed:   44.7s finished\n"
     ]
    },
    {
     "name": "stdout",
     "output_type": "stream",
     "text": [
      "Train AUC Score: 0.8439\n",
      "Using the following parameters: {'max_features': 'sqrt', 'min_samples_leaf': 5, 'n_estimators': 200}\n",
      "\n",
      "\n"
     ]
    }
   ],
   "source": [
    "grid_search(clf_rf, param_grid_rf)"
   ]
  },
  {
   "cell_type": "code",
   "execution_count": 194,
   "metadata": {},
   "outputs": [],
   "source": [
    "clf_rf_best = RandomForestClassifier(max_features='sqrt', min_samples_leaf=5, n_estimators=200, random_state = 0)"
   ]
  },
  {
   "cell_type": "code",
   "execution_count": 193,
   "metadata": {},
   "outputs": [
    {
     "name": "stdout",
     "output_type": "stream",
     "text": [
      "[0.87240949 0.84320781 0.8360542  0.83829637 0.8340958 ]\n",
      "AUC Mean Score 84.48 +/- 1.41\n"
     ]
    }
   ],
   "source": [
    "crossvalscore(clf_rf_best)"
   ]
  },
  {
   "cell_type": "markdown",
   "metadata": {},
   "source": [
    "### Support Vector Classification"
   ]
  },
  {
   "cell_type": "code",
   "execution_count": 202,
   "metadata": {
    "scrolled": true
   },
   "outputs": [
    {
     "name": "stdout",
     "output_type": "stream",
     "text": [
      "Fitting 3 folds for each of 15 candidates, totalling 45 fits\n",
      "[CV] clf_svc__C=0.1, clf_svc__gamma=0.0001, clf_svc__kernel=rbf ......\n"
     ]
    },
    {
     "name": "stderr",
     "output_type": "stream",
     "text": [
      "[Parallel(n_jobs=1)]: Using backend SequentialBackend with 1 concurrent workers.\n"
     ]
    },
    {
     "name": "stdout",
     "output_type": "stream",
     "text": [
      "[CV]  clf_svc__C=0.1, clf_svc__gamma=0.0001, clf_svc__kernel=rbf, score=0.598, total=   0.8s\n",
      "[CV] clf_svc__C=0.1, clf_svc__gamma=0.0001, clf_svc__kernel=rbf ......\n"
     ]
    },
    {
     "name": "stderr",
     "output_type": "stream",
     "text": [
      "[Parallel(n_jobs=1)]: Done   1 out of   1 | elapsed:    0.7s remaining:    0.0s\n"
     ]
    },
    {
     "name": "stdout",
     "output_type": "stream",
     "text": [
      "[CV]  clf_svc__C=0.1, clf_svc__gamma=0.0001, clf_svc__kernel=rbf, score=0.635, total=   0.8s\n",
      "[CV] clf_svc__C=0.1, clf_svc__gamma=0.0001, clf_svc__kernel=rbf ......\n"
     ]
    },
    {
     "name": "stderr",
     "output_type": "stream",
     "text": [
      "[Parallel(n_jobs=1)]: Done   2 out of   2 | elapsed:    1.4s remaining:    0.0s\n"
     ]
    },
    {
     "name": "stdout",
     "output_type": "stream",
     "text": [
      "[CV]  clf_svc__C=0.1, clf_svc__gamma=0.0001, clf_svc__kernel=rbf, score=0.680, total=   0.8s\n",
      "[CV] clf_svc__C=0.1, clf_svc__gamma=0.002154434690031882, clf_svc__kernel=rbf \n"
     ]
    },
    {
     "name": "stderr",
     "output_type": "stream",
     "text": [
      "[Parallel(n_jobs=1)]: Done   3 out of   3 | elapsed:    2.2s remaining:    0.0s\n"
     ]
    },
    {
     "name": "stdout",
     "output_type": "stream",
     "text": [
      "[CV]  clf_svc__C=0.1, clf_svc__gamma=0.002154434690031882, clf_svc__kernel=rbf, score=0.757, total=   1.2s\n",
      "[CV] clf_svc__C=0.1, clf_svc__gamma=0.002154434690031882, clf_svc__kernel=rbf \n"
     ]
    },
    {
     "name": "stderr",
     "output_type": "stream",
     "text": [
      "[Parallel(n_jobs=1)]: Done   4 out of   4 | elapsed:    3.4s remaining:    0.0s\n"
     ]
    },
    {
     "name": "stdout",
     "output_type": "stream",
     "text": [
      "[CV]  clf_svc__C=0.1, clf_svc__gamma=0.002154434690031882, clf_svc__kernel=rbf, score=0.742, total=   1.2s\n",
      "[CV] clf_svc__C=0.1, clf_svc__gamma=0.002154434690031882, clf_svc__kernel=rbf \n",
      "[CV]  clf_svc__C=0.1, clf_svc__gamma=0.002154434690031882, clf_svc__kernel=rbf, score=0.748, total=   1.2s\n",
      "[CV] clf_svc__C=0.1, clf_svc__gamma=0.046415888336127774, clf_svc__kernel=rbf \n",
      "[CV]  clf_svc__C=0.1, clf_svc__gamma=0.046415888336127774, clf_svc__kernel=rbf, score=0.712, total=   1.5s\n",
      "[CV] clf_svc__C=0.1, clf_svc__gamma=0.046415888336127774, clf_svc__kernel=rbf \n",
      "[CV]  clf_svc__C=0.1, clf_svc__gamma=0.046415888336127774, clf_svc__kernel=rbf, score=0.682, total=   1.5s\n",
      "[CV] clf_svc__C=0.1, clf_svc__gamma=0.046415888336127774, clf_svc__kernel=rbf \n",
      "[CV]  clf_svc__C=0.1, clf_svc__gamma=0.046415888336127774, clf_svc__kernel=rbf, score=0.686, total=   1.5s\n",
      "[CV] clf_svc__C=1.0, clf_svc__gamma=0.0001, clf_svc__kernel=rbf ......\n",
      "[CV]  clf_svc__C=1.0, clf_svc__gamma=0.0001, clf_svc__kernel=rbf, score=0.541, total=   0.8s\n",
      "[CV] clf_svc__C=1.0, clf_svc__gamma=0.0001, clf_svc__kernel=rbf ......\n",
      "[CV]  clf_svc__C=1.0, clf_svc__gamma=0.0001, clf_svc__kernel=rbf, score=0.632, total=   0.8s\n",
      "[CV] clf_svc__C=1.0, clf_svc__gamma=0.0001, clf_svc__kernel=rbf ......\n",
      "[CV]  clf_svc__C=1.0, clf_svc__gamma=0.0001, clf_svc__kernel=rbf, score=0.614, total=   0.8s\n",
      "[CV] clf_svc__C=1.0, clf_svc__gamma=0.002154434690031882, clf_svc__kernel=rbf \n",
      "[CV]  clf_svc__C=1.0, clf_svc__gamma=0.002154434690031882, clf_svc__kernel=rbf, score=0.777, total=   1.5s\n",
      "[CV] clf_svc__C=1.0, clf_svc__gamma=0.002154434690031882, clf_svc__kernel=rbf \n",
      "[CV]  clf_svc__C=1.0, clf_svc__gamma=0.002154434690031882, clf_svc__kernel=rbf, score=0.750, total=   1.4s\n",
      "[CV] clf_svc__C=1.0, clf_svc__gamma=0.002154434690031882, clf_svc__kernel=rbf \n",
      "[CV]  clf_svc__C=1.0, clf_svc__gamma=0.002154434690031882, clf_svc__kernel=rbf, score=0.762, total=   1.4s\n",
      "[CV] clf_svc__C=1.0, clf_svc__gamma=0.046415888336127774, clf_svc__kernel=rbf \n",
      "[CV]  clf_svc__C=1.0, clf_svc__gamma=0.046415888336127774, clf_svc__kernel=rbf, score=0.711, total=   1.6s\n",
      "[CV] clf_svc__C=1.0, clf_svc__gamma=0.046415888336127774, clf_svc__kernel=rbf \n",
      "[CV]  clf_svc__C=1.0, clf_svc__gamma=0.046415888336127774, clf_svc__kernel=rbf, score=0.682, total=   1.5s\n",
      "[CV] clf_svc__C=1.0, clf_svc__gamma=0.046415888336127774, clf_svc__kernel=rbf \n",
      "[CV]  clf_svc__C=1.0, clf_svc__gamma=0.046415888336127774, clf_svc__kernel=rbf, score=0.686, total=   1.6s\n",
      "[CV] clf_svc__C=10.0, clf_svc__gamma=0.0001, clf_svc__kernel=rbf .....\n",
      "[CV]  clf_svc__C=10.0, clf_svc__gamma=0.0001, clf_svc__kernel=rbf, score=0.725, total=   1.6s\n",
      "[CV] clf_svc__C=10.0, clf_svc__gamma=0.0001, clf_svc__kernel=rbf .....\n",
      "[CV]  clf_svc__C=10.0, clf_svc__gamma=0.0001, clf_svc__kernel=rbf, score=0.664, total=   1.5s\n",
      "[CV] clf_svc__C=10.0, clf_svc__gamma=0.0001, clf_svc__kernel=rbf .....\n",
      "[CV]  clf_svc__C=10.0, clf_svc__gamma=0.0001, clf_svc__kernel=rbf, score=0.669, total=   1.6s\n",
      "[CV] clf_svc__C=10.0, clf_svc__gamma=0.002154434690031882, clf_svc__kernel=rbf \n",
      "[CV]  clf_svc__C=10.0, clf_svc__gamma=0.002154434690031882, clf_svc__kernel=rbf, score=0.775, total=   1.5s\n",
      "[CV] clf_svc__C=10.0, clf_svc__gamma=0.002154434690031882, clf_svc__kernel=rbf \n",
      "[CV]  clf_svc__C=10.0, clf_svc__gamma=0.002154434690031882, clf_svc__kernel=rbf, score=0.752, total=   1.4s\n",
      "[CV] clf_svc__C=10.0, clf_svc__gamma=0.002154434690031882, clf_svc__kernel=rbf \n",
      "[CV]  clf_svc__C=10.0, clf_svc__gamma=0.002154434690031882, clf_svc__kernel=rbf, score=0.761, total=   1.4s\n",
      "[CV] clf_svc__C=10.0, clf_svc__gamma=0.046415888336127774, clf_svc__kernel=rbf \n",
      "[CV]  clf_svc__C=10.0, clf_svc__gamma=0.046415888336127774, clf_svc__kernel=rbf, score=0.715, total=   1.6s\n",
      "[CV] clf_svc__C=10.0, clf_svc__gamma=0.046415888336127774, clf_svc__kernel=rbf \n",
      "[CV]  clf_svc__C=10.0, clf_svc__gamma=0.046415888336127774, clf_svc__kernel=rbf, score=0.695, total=   1.5s\n",
      "[CV] clf_svc__C=10.0, clf_svc__gamma=0.046415888336127774, clf_svc__kernel=rbf \n",
      "[CV]  clf_svc__C=10.0, clf_svc__gamma=0.046415888336127774, clf_svc__kernel=rbf, score=0.699, total=   1.6s\n",
      "[CV] clf_svc__C=100.0, clf_svc__gamma=0.0001, clf_svc__kernel=rbf ....\n",
      "[CV]  clf_svc__C=100.0, clf_svc__gamma=0.0001, clf_svc__kernel=rbf, score=0.774, total=   2.2s\n",
      "[CV] clf_svc__C=100.0, clf_svc__gamma=0.0001, clf_svc__kernel=rbf ....\n",
      "[CV]  clf_svc__C=100.0, clf_svc__gamma=0.0001, clf_svc__kernel=rbf, score=0.752, total=   2.0s\n",
      "[CV] clf_svc__C=100.0, clf_svc__gamma=0.0001, clf_svc__kernel=rbf ....\n",
      "[CV]  clf_svc__C=100.0, clf_svc__gamma=0.0001, clf_svc__kernel=rbf, score=0.775, total=   2.0s\n",
      "[CV] clf_svc__C=100.0, clf_svc__gamma=0.002154434690031882, clf_svc__kernel=rbf \n",
      "[CV]  clf_svc__C=100.0, clf_svc__gamma=0.002154434690031882, clf_svc__kernel=rbf, score=0.775, total=   1.6s\n",
      "[CV] clf_svc__C=100.0, clf_svc__gamma=0.002154434690031882, clf_svc__kernel=rbf \n",
      "[CV]  clf_svc__C=100.0, clf_svc__gamma=0.002154434690031882, clf_svc__kernel=rbf, score=0.752, total=   1.5s\n",
      "[CV] clf_svc__C=100.0, clf_svc__gamma=0.002154434690031882, clf_svc__kernel=rbf \n",
      "[CV]  clf_svc__C=100.0, clf_svc__gamma=0.002154434690031882, clf_svc__kernel=rbf, score=0.760, total=   1.5s\n",
      "[CV] clf_svc__C=100.0, clf_svc__gamma=0.046415888336127774, clf_svc__kernel=rbf \n",
      "[CV]  clf_svc__C=100.0, clf_svc__gamma=0.046415888336127774, clf_svc__kernel=rbf, score=0.714, total=   1.5s\n",
      "[CV] clf_svc__C=100.0, clf_svc__gamma=0.046415888336127774, clf_svc__kernel=rbf \n",
      "[CV]  clf_svc__C=100.0, clf_svc__gamma=0.046415888336127774, clf_svc__kernel=rbf, score=0.686, total=   1.5s\n",
      "[CV] clf_svc__C=100.0, clf_svc__gamma=0.046415888336127774, clf_svc__kernel=rbf \n",
      "[CV]  clf_svc__C=100.0, clf_svc__gamma=0.046415888336127774, clf_svc__kernel=rbf, score=0.704, total=   1.5s\n",
      "[CV] clf_svc__C=1000.0, clf_svc__gamma=0.0001, clf_svc__kernel=rbf ...\n",
      "[CV]  clf_svc__C=1000.0, clf_svc__gamma=0.0001, clf_svc__kernel=rbf, score=0.777, total=   2.5s\n",
      "[CV] clf_svc__C=1000.0, clf_svc__gamma=0.0001, clf_svc__kernel=rbf ...\n",
      "[CV]  clf_svc__C=1000.0, clf_svc__gamma=0.0001, clf_svc__kernel=rbf, score=0.749, total=   2.2s\n",
      "[CV] clf_svc__C=1000.0, clf_svc__gamma=0.0001, clf_svc__kernel=rbf ...\n",
      "[CV]  clf_svc__C=1000.0, clf_svc__gamma=0.0001, clf_svc__kernel=rbf, score=0.767, total=   2.2s\n",
      "[CV] clf_svc__C=1000.0, clf_svc__gamma=0.002154434690031882, clf_svc__kernel=rbf \n",
      "[CV]  clf_svc__C=1000.0, clf_svc__gamma=0.002154434690031882, clf_svc__kernel=rbf, score=0.782, total=   1.8s\n",
      "[CV] clf_svc__C=1000.0, clf_svc__gamma=0.002154434690031882, clf_svc__kernel=rbf \n",
      "[CV]  clf_svc__C=1000.0, clf_svc__gamma=0.002154434690031882, clf_svc__kernel=rbf, score=0.756, total=   1.7s\n",
      "[CV] clf_svc__C=1000.0, clf_svc__gamma=0.002154434690031882, clf_svc__kernel=rbf \n",
      "[CV]  clf_svc__C=1000.0, clf_svc__gamma=0.002154434690031882, clf_svc__kernel=rbf, score=0.758, total=   1.8s\n",
      "[CV] clf_svc__C=1000.0, clf_svc__gamma=0.046415888336127774, clf_svc__kernel=rbf \n",
      "[CV]  clf_svc__C=1000.0, clf_svc__gamma=0.046415888336127774, clf_svc__kernel=rbf, score=0.715, total=   1.5s\n",
      "[CV] clf_svc__C=1000.0, clf_svc__gamma=0.046415888336127774, clf_svc__kernel=rbf \n",
      "[CV]  clf_svc__C=1000.0, clf_svc__gamma=0.046415888336127774, clf_svc__kernel=rbf, score=0.684, total=   1.4s\n",
      "[CV] clf_svc__C=1000.0, clf_svc__gamma=0.046415888336127774, clf_svc__kernel=rbf \n",
      "[CV]  clf_svc__C=1000.0, clf_svc__gamma=0.046415888336127774, clf_svc__kernel=rbf, score=0.704, total=   1.5s\n"
     ]
    },
    {
     "name": "stderr",
     "output_type": "stream",
     "text": [
      "[Parallel(n_jobs=1)]: Done  45 out of  45 | elapsed:  1.1min finished\n"
     ]
    },
    {
     "name": "stdout",
     "output_type": "stream",
     "text": [
      "Train AUC Score: 0.7672\n",
      "Using the following parameters: {'clf_svc__C': 100.0, 'clf_svc__gamma': 0.0001, 'clf_svc__kernel': 'rbf'}\n",
      "\n",
      "\n"
     ]
    }
   ],
   "source": [
    "grid_search(pipe_svc, param_grid_svc)"
   ]
  },
  {
   "cell_type": "code",
   "execution_count": 155,
   "metadata": {},
   "outputs": [],
   "source": [
    "clf_svc_best = SVC(random_state=0, C=100, gamma=0.0001, kernel='rbf')"
   ]
  },
  {
   "cell_type": "code",
   "execution_count": 156,
   "metadata": {},
   "outputs": [
    {
     "name": "stdout",
     "output_type": "stream",
     "text": [
      "[0.82861231 0.81316264 0.79975229 0.80939365 0.75870683]\n",
      "AUC Mean Score 80.19 +/- 2.35\n"
     ]
    }
   ],
   "source": [
    "crossvalscore(clf_svc_best)"
   ]
  },
  {
   "cell_type": "markdown",
   "metadata": {},
   "source": [
    "### XGBoost"
   ]
  },
  {
   "cell_type": "code",
   "execution_count": 286,
   "metadata": {
    "scrolled": true
   },
   "outputs": [
    {
     "name": "stdout",
     "output_type": "stream",
     "text": [
      "Fitting 3 folds for each of 27 candidates, totalling 81 fits\n",
      "[CV] colsample_bytree=0.2, eval_metric=auc, gamma=0.01, learning_rate=0.1, max_depth=3, reg_alpha=0, reg_lambda=1, subsample=0.5 \n"
     ]
    },
    {
     "name": "stderr",
     "output_type": "stream",
     "text": [
      "[Parallel(n_jobs=1)]: Using backend SequentialBackend with 1 concurrent workers.\n"
     ]
    },
    {
     "name": "stdout",
     "output_type": "stream",
     "text": [
      "[CV]  colsample_bytree=0.2, eval_metric=auc, gamma=0.01, learning_rate=0.1, max_depth=3, reg_alpha=0, reg_lambda=1, subsample=0.5, score=0.859, total=   0.6s\n",
      "[CV] colsample_bytree=0.2, eval_metric=auc, gamma=0.01, learning_rate=0.1, max_depth=3, reg_alpha=0, reg_lambda=1, subsample=0.5 \n"
     ]
    },
    {
     "name": "stderr",
     "output_type": "stream",
     "text": [
      "[Parallel(n_jobs=1)]: Done   1 out of   1 | elapsed:    0.5s remaining:    0.0s\n"
     ]
    },
    {
     "name": "stdout",
     "output_type": "stream",
     "text": [
      "[CV]  colsample_bytree=0.2, eval_metric=auc, gamma=0.01, learning_rate=0.1, max_depth=3, reg_alpha=0, reg_lambda=1, subsample=0.5, score=0.835, total=   0.6s\n",
      "[CV] colsample_bytree=0.2, eval_metric=auc, gamma=0.01, learning_rate=0.1, max_depth=3, reg_alpha=0, reg_lambda=1, subsample=0.5 \n"
     ]
    },
    {
     "name": "stderr",
     "output_type": "stream",
     "text": [
      "[Parallel(n_jobs=1)]: Done   2 out of   2 | elapsed:    1.1s remaining:    0.0s\n"
     ]
    },
    {
     "name": "stdout",
     "output_type": "stream",
     "text": [
      "[CV]  colsample_bytree=0.2, eval_metric=auc, gamma=0.01, learning_rate=0.1, max_depth=3, reg_alpha=0, reg_lambda=1, subsample=0.5, score=0.842, total=   0.6s\n",
      "[CV] colsample_bytree=0.2, eval_metric=auc, gamma=0.01, learning_rate=0.1, max_depth=3, reg_alpha=0, reg_lambda=2, subsample=0.5 \n"
     ]
    },
    {
     "name": "stderr",
     "output_type": "stream",
     "text": [
      "[Parallel(n_jobs=1)]: Done   3 out of   3 | elapsed:    1.7s remaining:    0.0s\n"
     ]
    },
    {
     "name": "stdout",
     "output_type": "stream",
     "text": [
      "[CV]  colsample_bytree=0.2, eval_metric=auc, gamma=0.01, learning_rate=0.1, max_depth=3, reg_alpha=0, reg_lambda=2, subsample=0.5, score=0.858, total=   0.6s\n",
      "[CV] colsample_bytree=0.2, eval_metric=auc, gamma=0.01, learning_rate=0.1, max_depth=3, reg_alpha=0, reg_lambda=2, subsample=0.5 \n"
     ]
    },
    {
     "name": "stderr",
     "output_type": "stream",
     "text": [
      "[Parallel(n_jobs=1)]: Done   4 out of   4 | elapsed:    2.3s remaining:    0.0s\n"
     ]
    },
    {
     "name": "stdout",
     "output_type": "stream",
     "text": [
      "[CV]  colsample_bytree=0.2, eval_metric=auc, gamma=0.01, learning_rate=0.1, max_depth=3, reg_alpha=0, reg_lambda=2, subsample=0.5, score=0.833, total=   0.5s\n",
      "[CV] colsample_bytree=0.2, eval_metric=auc, gamma=0.01, learning_rate=0.1, max_depth=3, reg_alpha=0, reg_lambda=2, subsample=0.5 \n",
      "[CV]  colsample_bytree=0.2, eval_metric=auc, gamma=0.01, learning_rate=0.1, max_depth=3, reg_alpha=0, reg_lambda=2, subsample=0.5, score=0.838, total=   0.6s\n",
      "[CV] colsample_bytree=0.2, eval_metric=auc, gamma=0.01, learning_rate=0.1, max_depth=3, reg_alpha=0, reg_lambda=5, subsample=0.5 \n",
      "[CV]  colsample_bytree=0.2, eval_metric=auc, gamma=0.01, learning_rate=0.1, max_depth=3, reg_alpha=0, reg_lambda=5, subsample=0.5, score=0.855, total=   0.6s\n",
      "[CV] colsample_bytree=0.2, eval_metric=auc, gamma=0.01, learning_rate=0.1, max_depth=3, reg_alpha=0, reg_lambda=5, subsample=0.5 \n",
      "[CV]  colsample_bytree=0.2, eval_metric=auc, gamma=0.01, learning_rate=0.1, max_depth=3, reg_alpha=0, reg_lambda=5, subsample=0.5, score=0.829, total=   0.6s\n",
      "[CV] colsample_bytree=0.2, eval_metric=auc, gamma=0.01, learning_rate=0.1, max_depth=3, reg_alpha=0, reg_lambda=5, subsample=0.5 \n",
      "[CV]  colsample_bytree=0.2, eval_metric=auc, gamma=0.01, learning_rate=0.1, max_depth=3, reg_alpha=0, reg_lambda=5, subsample=0.5, score=0.835, total=   0.6s\n",
      "[CV] colsample_bytree=0.2, eval_metric=auc, gamma=0.01, learning_rate=0.1, max_depth=3, reg_alpha=1, reg_lambda=1, subsample=0.5 \n",
      "[CV]  colsample_bytree=0.2, eval_metric=auc, gamma=0.01, learning_rate=0.1, max_depth=3, reg_alpha=1, reg_lambda=1, subsample=0.5, score=0.858, total=   0.6s\n",
      "[CV] colsample_bytree=0.2, eval_metric=auc, gamma=0.01, learning_rate=0.1, max_depth=3, reg_alpha=1, reg_lambda=1, subsample=0.5 \n",
      "[CV]  colsample_bytree=0.2, eval_metric=auc, gamma=0.01, learning_rate=0.1, max_depth=3, reg_alpha=1, reg_lambda=1, subsample=0.5, score=0.833, total=   0.6s\n",
      "[CV] colsample_bytree=0.2, eval_metric=auc, gamma=0.01, learning_rate=0.1, max_depth=3, reg_alpha=1, reg_lambda=1, subsample=0.5 \n",
      "[CV]  colsample_bytree=0.2, eval_metric=auc, gamma=0.01, learning_rate=0.1, max_depth=3, reg_alpha=1, reg_lambda=1, subsample=0.5, score=0.839, total=   0.6s\n",
      "[CV] colsample_bytree=0.2, eval_metric=auc, gamma=0.01, learning_rate=0.1, max_depth=3, reg_alpha=1, reg_lambda=2, subsample=0.5 \n",
      "[CV]  colsample_bytree=0.2, eval_metric=auc, gamma=0.01, learning_rate=0.1, max_depth=3, reg_alpha=1, reg_lambda=2, subsample=0.5, score=0.857, total=   0.5s\n",
      "[CV] colsample_bytree=0.2, eval_metric=auc, gamma=0.01, learning_rate=0.1, max_depth=3, reg_alpha=1, reg_lambda=2, subsample=0.5 \n",
      "[CV]  colsample_bytree=0.2, eval_metric=auc, gamma=0.01, learning_rate=0.1, max_depth=3, reg_alpha=1, reg_lambda=2, subsample=0.5, score=0.830, total=   0.5s\n",
      "[CV] colsample_bytree=0.2, eval_metric=auc, gamma=0.01, learning_rate=0.1, max_depth=3, reg_alpha=1, reg_lambda=2, subsample=0.5 \n",
      "[CV]  colsample_bytree=0.2, eval_metric=auc, gamma=0.01, learning_rate=0.1, max_depth=3, reg_alpha=1, reg_lambda=2, subsample=0.5, score=0.834, total=   0.6s\n",
      "[CV] colsample_bytree=0.2, eval_metric=auc, gamma=0.01, learning_rate=0.1, max_depth=3, reg_alpha=1, reg_lambda=5, subsample=0.5 \n",
      "[CV]  colsample_bytree=0.2, eval_metric=auc, gamma=0.01, learning_rate=0.1, max_depth=3, reg_alpha=1, reg_lambda=5, subsample=0.5, score=0.854, total=   0.5s\n",
      "[CV] colsample_bytree=0.2, eval_metric=auc, gamma=0.01, learning_rate=0.1, max_depth=3, reg_alpha=1, reg_lambda=5, subsample=0.5 \n",
      "[CV]  colsample_bytree=0.2, eval_metric=auc, gamma=0.01, learning_rate=0.1, max_depth=3, reg_alpha=1, reg_lambda=5, subsample=0.5, score=0.824, total=   0.6s\n",
      "[CV] colsample_bytree=0.2, eval_metric=auc, gamma=0.01, learning_rate=0.1, max_depth=3, reg_alpha=1, reg_lambda=5, subsample=0.5 \n",
      "[CV]  colsample_bytree=0.2, eval_metric=auc, gamma=0.01, learning_rate=0.1, max_depth=3, reg_alpha=1, reg_lambda=5, subsample=0.5, score=0.829, total=   0.5s\n",
      "[CV] colsample_bytree=0.2, eval_metric=auc, gamma=0.01, learning_rate=0.1, max_depth=3, reg_alpha=1.5, reg_lambda=1, subsample=0.5 \n",
      "[CV]  colsample_bytree=0.2, eval_metric=auc, gamma=0.01, learning_rate=0.1, max_depth=3, reg_alpha=1.5, reg_lambda=1, subsample=0.5, score=0.858, total=   0.6s\n",
      "[CV] colsample_bytree=0.2, eval_metric=auc, gamma=0.01, learning_rate=0.1, max_depth=3, reg_alpha=1.5, reg_lambda=1, subsample=0.5 \n",
      "[CV]  colsample_bytree=0.2, eval_metric=auc, gamma=0.01, learning_rate=0.1, max_depth=3, reg_alpha=1.5, reg_lambda=1, subsample=0.5, score=0.831, total=   0.7s\n",
      "[CV] colsample_bytree=0.2, eval_metric=auc, gamma=0.01, learning_rate=0.1, max_depth=3, reg_alpha=1.5, reg_lambda=1, subsample=0.5 \n",
      "[CV]  colsample_bytree=0.2, eval_metric=auc, gamma=0.01, learning_rate=0.1, max_depth=3, reg_alpha=1.5, reg_lambda=1, subsample=0.5, score=0.836, total=   0.5s\n",
      "[CV] colsample_bytree=0.2, eval_metric=auc, gamma=0.01, learning_rate=0.1, max_depth=3, reg_alpha=1.5, reg_lambda=2, subsample=0.5 \n",
      "[CV]  colsample_bytree=0.2, eval_metric=auc, gamma=0.01, learning_rate=0.1, max_depth=3, reg_alpha=1.5, reg_lambda=2, subsample=0.5, score=0.856, total=   0.5s\n",
      "[CV] colsample_bytree=0.2, eval_metric=auc, gamma=0.01, learning_rate=0.1, max_depth=3, reg_alpha=1.5, reg_lambda=2, subsample=0.5 \n",
      "[CV]  colsample_bytree=0.2, eval_metric=auc, gamma=0.01, learning_rate=0.1, max_depth=3, reg_alpha=1.5, reg_lambda=2, subsample=0.5, score=0.830, total=   0.4s\n",
      "[CV] colsample_bytree=0.2, eval_metric=auc, gamma=0.01, learning_rate=0.1, max_depth=3, reg_alpha=1.5, reg_lambda=2, subsample=0.5 \n",
      "[CV]  colsample_bytree=0.2, eval_metric=auc, gamma=0.01, learning_rate=0.1, max_depth=3, reg_alpha=1.5, reg_lambda=2, subsample=0.5, score=0.830, total=   0.4s\n",
      "[CV] colsample_bytree=0.2, eval_metric=auc, gamma=0.01, learning_rate=0.1, max_depth=3, reg_alpha=1.5, reg_lambda=5, subsample=0.5 \n",
      "[CV]  colsample_bytree=0.2, eval_metric=auc, gamma=0.01, learning_rate=0.1, max_depth=3, reg_alpha=1.5, reg_lambda=5, subsample=0.5, score=0.852, total=   0.5s\n",
      "[CV] colsample_bytree=0.2, eval_metric=auc, gamma=0.01, learning_rate=0.1, max_depth=3, reg_alpha=1.5, reg_lambda=5, subsample=0.5 \n",
      "[CV]  colsample_bytree=0.2, eval_metric=auc, gamma=0.01, learning_rate=0.1, max_depth=3, reg_alpha=1.5, reg_lambda=5, subsample=0.5, score=0.826, total=   0.5s\n",
      "[CV] colsample_bytree=0.2, eval_metric=auc, gamma=0.01, learning_rate=0.1, max_depth=3, reg_alpha=1.5, reg_lambda=5, subsample=0.5 \n",
      "[CV]  colsample_bytree=0.2, eval_metric=auc, gamma=0.01, learning_rate=0.1, max_depth=3, reg_alpha=1.5, reg_lambda=5, subsample=0.5, score=0.827, total=   0.5s\n",
      "[CV] colsample_bytree=0.2, eval_metric=auc, gamma=0.03, learning_rate=0.1, max_depth=3, reg_alpha=0, reg_lambda=1, subsample=0.5 \n",
      "[CV]  colsample_bytree=0.2, eval_metric=auc, gamma=0.03, learning_rate=0.1, max_depth=3, reg_alpha=0, reg_lambda=1, subsample=0.5, score=0.859, total=   0.5s\n",
      "[CV] colsample_bytree=0.2, eval_metric=auc, gamma=0.03, learning_rate=0.1, max_depth=3, reg_alpha=0, reg_lambda=1, subsample=0.5 \n",
      "[CV]  colsample_bytree=0.2, eval_metric=auc, gamma=0.03, learning_rate=0.1, max_depth=3, reg_alpha=0, reg_lambda=1, subsample=0.5, score=0.835, total=   0.5s\n",
      "[CV] colsample_bytree=0.2, eval_metric=auc, gamma=0.03, learning_rate=0.1, max_depth=3, reg_alpha=0, reg_lambda=1, subsample=0.5 \n",
      "[CV]  colsample_bytree=0.2, eval_metric=auc, gamma=0.03, learning_rate=0.1, max_depth=3, reg_alpha=0, reg_lambda=1, subsample=0.5, score=0.842, total=   0.5s\n",
      "[CV] colsample_bytree=0.2, eval_metric=auc, gamma=0.03, learning_rate=0.1, max_depth=3, reg_alpha=0, reg_lambda=2, subsample=0.5 \n",
      "[CV]  colsample_bytree=0.2, eval_metric=auc, gamma=0.03, learning_rate=0.1, max_depth=3, reg_alpha=0, reg_lambda=2, subsample=0.5, score=0.858, total=   0.5s\n",
      "[CV] colsample_bytree=0.2, eval_metric=auc, gamma=0.03, learning_rate=0.1, max_depth=3, reg_alpha=0, reg_lambda=2, subsample=0.5 \n",
      "[CV]  colsample_bytree=0.2, eval_metric=auc, gamma=0.03, learning_rate=0.1, max_depth=3, reg_alpha=0, reg_lambda=2, subsample=0.5, score=0.833, total=   0.6s\n",
      "[CV] colsample_bytree=0.2, eval_metric=auc, gamma=0.03, learning_rate=0.1, max_depth=3, reg_alpha=0, reg_lambda=2, subsample=0.5 \n",
      "[CV]  colsample_bytree=0.2, eval_metric=auc, gamma=0.03, learning_rate=0.1, max_depth=3, reg_alpha=0, reg_lambda=2, subsample=0.5, score=0.838, total=   0.4s\n",
      "[CV] colsample_bytree=0.2, eval_metric=auc, gamma=0.03, learning_rate=0.1, max_depth=3, reg_alpha=0, reg_lambda=5, subsample=0.5 \n"
     ]
    },
    {
     "name": "stdout",
     "output_type": "stream",
     "text": [
      "[CV]  colsample_bytree=0.2, eval_metric=auc, gamma=0.03, learning_rate=0.1, max_depth=3, reg_alpha=0, reg_lambda=5, subsample=0.5, score=0.854, total=   0.9s\n",
      "[CV] colsample_bytree=0.2, eval_metric=auc, gamma=0.03, learning_rate=0.1, max_depth=3, reg_alpha=0, reg_lambda=5, subsample=0.5 \n",
      "[CV]  colsample_bytree=0.2, eval_metric=auc, gamma=0.03, learning_rate=0.1, max_depth=3, reg_alpha=0, reg_lambda=5, subsample=0.5, score=0.829, total=   0.5s\n",
      "[CV] colsample_bytree=0.2, eval_metric=auc, gamma=0.03, learning_rate=0.1, max_depth=3, reg_alpha=0, reg_lambda=5, subsample=0.5 \n",
      "[CV]  colsample_bytree=0.2, eval_metric=auc, gamma=0.03, learning_rate=0.1, max_depth=3, reg_alpha=0, reg_lambda=5, subsample=0.5, score=0.835, total=   0.4s\n",
      "[CV] colsample_bytree=0.2, eval_metric=auc, gamma=0.03, learning_rate=0.1, max_depth=3, reg_alpha=1, reg_lambda=1, subsample=0.5 \n",
      "[CV]  colsample_bytree=0.2, eval_metric=auc, gamma=0.03, learning_rate=0.1, max_depth=3, reg_alpha=1, reg_lambda=1, subsample=0.5, score=0.858, total=   0.5s\n",
      "[CV] colsample_bytree=0.2, eval_metric=auc, gamma=0.03, learning_rate=0.1, max_depth=3, reg_alpha=1, reg_lambda=1, subsample=0.5 \n",
      "[CV]  colsample_bytree=0.2, eval_metric=auc, gamma=0.03, learning_rate=0.1, max_depth=3, reg_alpha=1, reg_lambda=1, subsample=0.5, score=0.832, total=   0.5s\n",
      "[CV] colsample_bytree=0.2, eval_metric=auc, gamma=0.03, learning_rate=0.1, max_depth=3, reg_alpha=1, reg_lambda=1, subsample=0.5 \n",
      "[CV]  colsample_bytree=0.2, eval_metric=auc, gamma=0.03, learning_rate=0.1, max_depth=3, reg_alpha=1, reg_lambda=1, subsample=0.5, score=0.839, total=   0.5s\n",
      "[CV] colsample_bytree=0.2, eval_metric=auc, gamma=0.03, learning_rate=0.1, max_depth=3, reg_alpha=1, reg_lambda=2, subsample=0.5 \n",
      "[CV]  colsample_bytree=0.2, eval_metric=auc, gamma=0.03, learning_rate=0.1, max_depth=3, reg_alpha=1, reg_lambda=2, subsample=0.5, score=0.857, total=   0.4s\n",
      "[CV] colsample_bytree=0.2, eval_metric=auc, gamma=0.03, learning_rate=0.1, max_depth=3, reg_alpha=1, reg_lambda=2, subsample=0.5 \n",
      "[CV]  colsample_bytree=0.2, eval_metric=auc, gamma=0.03, learning_rate=0.1, max_depth=3, reg_alpha=1, reg_lambda=2, subsample=0.5, score=0.830, total=   0.5s\n",
      "[CV] colsample_bytree=0.2, eval_metric=auc, gamma=0.03, learning_rate=0.1, max_depth=3, reg_alpha=1, reg_lambda=2, subsample=0.5 \n",
      "[CV]  colsample_bytree=0.2, eval_metric=auc, gamma=0.03, learning_rate=0.1, max_depth=3, reg_alpha=1, reg_lambda=2, subsample=0.5, score=0.834, total=   0.5s\n",
      "[CV] colsample_bytree=0.2, eval_metric=auc, gamma=0.03, learning_rate=0.1, max_depth=3, reg_alpha=1, reg_lambda=5, subsample=0.5 \n",
      "[CV]  colsample_bytree=0.2, eval_metric=auc, gamma=0.03, learning_rate=0.1, max_depth=3, reg_alpha=1, reg_lambda=5, subsample=0.5, score=0.854, total=   0.6s\n",
      "[CV] colsample_bytree=0.2, eval_metric=auc, gamma=0.03, learning_rate=0.1, max_depth=3, reg_alpha=1, reg_lambda=5, subsample=0.5 \n",
      "[CV]  colsample_bytree=0.2, eval_metric=auc, gamma=0.03, learning_rate=0.1, max_depth=3, reg_alpha=1, reg_lambda=5, subsample=0.5, score=0.825, total=   0.4s\n",
      "[CV] colsample_bytree=0.2, eval_metric=auc, gamma=0.03, learning_rate=0.1, max_depth=3, reg_alpha=1, reg_lambda=5, subsample=0.5 \n",
      "[CV]  colsample_bytree=0.2, eval_metric=auc, gamma=0.03, learning_rate=0.1, max_depth=3, reg_alpha=1, reg_lambda=5, subsample=0.5, score=0.830, total=   0.4s\n",
      "[CV] colsample_bytree=0.2, eval_metric=auc, gamma=0.03, learning_rate=0.1, max_depth=3, reg_alpha=1.5, reg_lambda=1, subsample=0.5 \n",
      "[CV]  colsample_bytree=0.2, eval_metric=auc, gamma=0.03, learning_rate=0.1, max_depth=3, reg_alpha=1.5, reg_lambda=1, subsample=0.5, score=0.857, total=   0.7s\n",
      "[CV] colsample_bytree=0.2, eval_metric=auc, gamma=0.03, learning_rate=0.1, max_depth=3, reg_alpha=1.5, reg_lambda=1, subsample=0.5 \n",
      "[CV]  colsample_bytree=0.2, eval_metric=auc, gamma=0.03, learning_rate=0.1, max_depth=3, reg_alpha=1.5, reg_lambda=1, subsample=0.5, score=0.831, total=   0.5s\n",
      "[CV] colsample_bytree=0.2, eval_metric=auc, gamma=0.03, learning_rate=0.1, max_depth=3, reg_alpha=1.5, reg_lambda=1, subsample=0.5 \n",
      "[CV]  colsample_bytree=0.2, eval_metric=auc, gamma=0.03, learning_rate=0.1, max_depth=3, reg_alpha=1.5, reg_lambda=1, subsample=0.5, score=0.835, total=   0.5s\n",
      "[CV] colsample_bytree=0.2, eval_metric=auc, gamma=0.03, learning_rate=0.1, max_depth=3, reg_alpha=1.5, reg_lambda=2, subsample=0.5 \n",
      "[CV]  colsample_bytree=0.2, eval_metric=auc, gamma=0.03, learning_rate=0.1, max_depth=3, reg_alpha=1.5, reg_lambda=2, subsample=0.5, score=0.855, total=   0.9s\n",
      "[CV] colsample_bytree=0.2, eval_metric=auc, gamma=0.03, learning_rate=0.1, max_depth=3, reg_alpha=1.5, reg_lambda=2, subsample=0.5 \n",
      "[CV]  colsample_bytree=0.2, eval_metric=auc, gamma=0.03, learning_rate=0.1, max_depth=3, reg_alpha=1.5, reg_lambda=2, subsample=0.5, score=0.829, total=   0.7s\n",
      "[CV] colsample_bytree=0.2, eval_metric=auc, gamma=0.03, learning_rate=0.1, max_depth=3, reg_alpha=1.5, reg_lambda=2, subsample=0.5 \n",
      "[CV]  colsample_bytree=0.2, eval_metric=auc, gamma=0.03, learning_rate=0.1, max_depth=3, reg_alpha=1.5, reg_lambda=2, subsample=0.5, score=0.831, total=   0.6s\n",
      "[CV] colsample_bytree=0.2, eval_metric=auc, gamma=0.03, learning_rate=0.1, max_depth=3, reg_alpha=1.5, reg_lambda=5, subsample=0.5 \n",
      "[CV]  colsample_bytree=0.2, eval_metric=auc, gamma=0.03, learning_rate=0.1, max_depth=3, reg_alpha=1.5, reg_lambda=5, subsample=0.5, score=0.854, total=   0.5s\n",
      "[CV] colsample_bytree=0.2, eval_metric=auc, gamma=0.03, learning_rate=0.1, max_depth=3, reg_alpha=1.5, reg_lambda=5, subsample=0.5 \n",
      "[CV]  colsample_bytree=0.2, eval_metric=auc, gamma=0.03, learning_rate=0.1, max_depth=3, reg_alpha=1.5, reg_lambda=5, subsample=0.5, score=0.826, total=   0.6s\n",
      "[CV] colsample_bytree=0.2, eval_metric=auc, gamma=0.03, learning_rate=0.1, max_depth=3, reg_alpha=1.5, reg_lambda=5, subsample=0.5 \n",
      "[CV]  colsample_bytree=0.2, eval_metric=auc, gamma=0.03, learning_rate=0.1, max_depth=3, reg_alpha=1.5, reg_lambda=5, subsample=0.5, score=0.827, total=   0.5s\n",
      "[CV] colsample_bytree=0.2, eval_metric=auc, gamma=0.05, learning_rate=0.1, max_depth=3, reg_alpha=0, reg_lambda=1, subsample=0.5 \n",
      "[CV]  colsample_bytree=0.2, eval_metric=auc, gamma=0.05, learning_rate=0.1, max_depth=3, reg_alpha=0, reg_lambda=1, subsample=0.5, score=0.859, total=   0.5s\n",
      "[CV] colsample_bytree=0.2, eval_metric=auc, gamma=0.05, learning_rate=0.1, max_depth=3, reg_alpha=0, reg_lambda=1, subsample=0.5 \n",
      "[CV]  colsample_bytree=0.2, eval_metric=auc, gamma=0.05, learning_rate=0.1, max_depth=3, reg_alpha=0, reg_lambda=1, subsample=0.5, score=0.835, total=   0.5s\n",
      "[CV] colsample_bytree=0.2, eval_metric=auc, gamma=0.05, learning_rate=0.1, max_depth=3, reg_alpha=0, reg_lambda=1, subsample=0.5 \n",
      "[CV]  colsample_bytree=0.2, eval_metric=auc, gamma=0.05, learning_rate=0.1, max_depth=3, reg_alpha=0, reg_lambda=1, subsample=0.5, score=0.841, total=   0.5s\n",
      "[CV] colsample_bytree=0.2, eval_metric=auc, gamma=0.05, learning_rate=0.1, max_depth=3, reg_alpha=0, reg_lambda=2, subsample=0.5 \n",
      "[CV]  colsample_bytree=0.2, eval_metric=auc, gamma=0.05, learning_rate=0.1, max_depth=3, reg_alpha=0, reg_lambda=2, subsample=0.5, score=0.859, total=   0.5s\n",
      "[CV] colsample_bytree=0.2, eval_metric=auc, gamma=0.05, learning_rate=0.1, max_depth=3, reg_alpha=0, reg_lambda=2, subsample=0.5 \n",
      "[CV]  colsample_bytree=0.2, eval_metric=auc, gamma=0.05, learning_rate=0.1, max_depth=3, reg_alpha=0, reg_lambda=2, subsample=0.5, score=0.833, total=   0.4s\n",
      "[CV] colsample_bytree=0.2, eval_metric=auc, gamma=0.05, learning_rate=0.1, max_depth=3, reg_alpha=0, reg_lambda=2, subsample=0.5 \n",
      "[CV]  colsample_bytree=0.2, eval_metric=auc, gamma=0.05, learning_rate=0.1, max_depth=3, reg_alpha=0, reg_lambda=2, subsample=0.5, score=0.838, total=   0.6s\n",
      "[CV] colsample_bytree=0.2, eval_metric=auc, gamma=0.05, learning_rate=0.1, max_depth=3, reg_alpha=0, reg_lambda=5, subsample=0.5 \n",
      "[CV]  colsample_bytree=0.2, eval_metric=auc, gamma=0.05, learning_rate=0.1, max_depth=3, reg_alpha=0, reg_lambda=5, subsample=0.5, score=0.854, total=   0.5s\n",
      "[CV] colsample_bytree=0.2, eval_metric=auc, gamma=0.05, learning_rate=0.1, max_depth=3, reg_alpha=0, reg_lambda=5, subsample=0.5 \n",
      "[CV]  colsample_bytree=0.2, eval_metric=auc, gamma=0.05, learning_rate=0.1, max_depth=3, reg_alpha=0, reg_lambda=5, subsample=0.5, score=0.829, total=   0.5s\n",
      "[CV] colsample_bytree=0.2, eval_metric=auc, gamma=0.05, learning_rate=0.1, max_depth=3, reg_alpha=0, reg_lambda=5, subsample=0.5 \n"
     ]
    },
    {
     "name": "stdout",
     "output_type": "stream",
     "text": [
      "[CV]  colsample_bytree=0.2, eval_metric=auc, gamma=0.05, learning_rate=0.1, max_depth=3, reg_alpha=0, reg_lambda=5, subsample=0.5, score=0.835, total=   0.5s\n",
      "[CV] colsample_bytree=0.2, eval_metric=auc, gamma=0.05, learning_rate=0.1, max_depth=3, reg_alpha=1, reg_lambda=1, subsample=0.5 \n",
      "[CV]  colsample_bytree=0.2, eval_metric=auc, gamma=0.05, learning_rate=0.1, max_depth=3, reg_alpha=1, reg_lambda=1, subsample=0.5, score=0.858, total=   0.5s\n",
      "[CV] colsample_bytree=0.2, eval_metric=auc, gamma=0.05, learning_rate=0.1, max_depth=3, reg_alpha=1, reg_lambda=1, subsample=0.5 \n",
      "[CV]  colsample_bytree=0.2, eval_metric=auc, gamma=0.05, learning_rate=0.1, max_depth=3, reg_alpha=1, reg_lambda=1, subsample=0.5, score=0.832, total=   0.5s\n",
      "[CV] colsample_bytree=0.2, eval_metric=auc, gamma=0.05, learning_rate=0.1, max_depth=3, reg_alpha=1, reg_lambda=1, subsample=0.5 \n",
      "[CV]  colsample_bytree=0.2, eval_metric=auc, gamma=0.05, learning_rate=0.1, max_depth=3, reg_alpha=1, reg_lambda=1, subsample=0.5, score=0.838, total=   0.5s\n",
      "[CV] colsample_bytree=0.2, eval_metric=auc, gamma=0.05, learning_rate=0.1, max_depth=3, reg_alpha=1, reg_lambda=2, subsample=0.5 \n",
      "[CV]  colsample_bytree=0.2, eval_metric=auc, gamma=0.05, learning_rate=0.1, max_depth=3, reg_alpha=1, reg_lambda=2, subsample=0.5, score=0.857, total=   0.5s\n",
      "[CV] colsample_bytree=0.2, eval_metric=auc, gamma=0.05, learning_rate=0.1, max_depth=3, reg_alpha=1, reg_lambda=2, subsample=0.5 \n",
      "[CV]  colsample_bytree=0.2, eval_metric=auc, gamma=0.05, learning_rate=0.1, max_depth=3, reg_alpha=1, reg_lambda=2, subsample=0.5, score=0.830, total=   0.7s\n",
      "[CV] colsample_bytree=0.2, eval_metric=auc, gamma=0.05, learning_rate=0.1, max_depth=3, reg_alpha=1, reg_lambda=2, subsample=0.5 \n",
      "[CV]  colsample_bytree=0.2, eval_metric=auc, gamma=0.05, learning_rate=0.1, max_depth=3, reg_alpha=1, reg_lambda=2, subsample=0.5, score=0.834, total=   0.5s\n",
      "[CV] colsample_bytree=0.2, eval_metric=auc, gamma=0.05, learning_rate=0.1, max_depth=3, reg_alpha=1, reg_lambda=5, subsample=0.5 \n",
      "[CV]  colsample_bytree=0.2, eval_metric=auc, gamma=0.05, learning_rate=0.1, max_depth=3, reg_alpha=1, reg_lambda=5, subsample=0.5, score=0.853, total=   0.5s\n",
      "[CV] colsample_bytree=0.2, eval_metric=auc, gamma=0.05, learning_rate=0.1, max_depth=3, reg_alpha=1, reg_lambda=5, subsample=0.5 \n",
      "[CV]  colsample_bytree=0.2, eval_metric=auc, gamma=0.05, learning_rate=0.1, max_depth=3, reg_alpha=1, reg_lambda=5, subsample=0.5, score=0.825, total=   0.5s\n",
      "[CV] colsample_bytree=0.2, eval_metric=auc, gamma=0.05, learning_rate=0.1, max_depth=3, reg_alpha=1, reg_lambda=5, subsample=0.5 \n",
      "[CV]  colsample_bytree=0.2, eval_metric=auc, gamma=0.05, learning_rate=0.1, max_depth=3, reg_alpha=1, reg_lambda=5, subsample=0.5, score=0.828, total=   0.5s\n",
      "[CV] colsample_bytree=0.2, eval_metric=auc, gamma=0.05, learning_rate=0.1, max_depth=3, reg_alpha=1.5, reg_lambda=1, subsample=0.5 \n",
      "[CV]  colsample_bytree=0.2, eval_metric=auc, gamma=0.05, learning_rate=0.1, max_depth=3, reg_alpha=1.5, reg_lambda=1, subsample=0.5, score=0.857, total=   0.5s\n",
      "[CV] colsample_bytree=0.2, eval_metric=auc, gamma=0.05, learning_rate=0.1, max_depth=3, reg_alpha=1.5, reg_lambda=1, subsample=0.5 \n",
      "[CV]  colsample_bytree=0.2, eval_metric=auc, gamma=0.05, learning_rate=0.1, max_depth=3, reg_alpha=1.5, reg_lambda=1, subsample=0.5, score=0.831, total=   0.5s\n",
      "[CV] colsample_bytree=0.2, eval_metric=auc, gamma=0.05, learning_rate=0.1, max_depth=3, reg_alpha=1.5, reg_lambda=1, subsample=0.5 \n",
      "[CV]  colsample_bytree=0.2, eval_metric=auc, gamma=0.05, learning_rate=0.1, max_depth=3, reg_alpha=1.5, reg_lambda=1, subsample=0.5, score=0.837, total=   0.5s\n",
      "[CV] colsample_bytree=0.2, eval_metric=auc, gamma=0.05, learning_rate=0.1, max_depth=3, reg_alpha=1.5, reg_lambda=2, subsample=0.5 \n",
      "[CV]  colsample_bytree=0.2, eval_metric=auc, gamma=0.05, learning_rate=0.1, max_depth=3, reg_alpha=1.5, reg_lambda=2, subsample=0.5, score=0.855, total=   0.6s\n",
      "[CV] colsample_bytree=0.2, eval_metric=auc, gamma=0.05, learning_rate=0.1, max_depth=3, reg_alpha=1.5, reg_lambda=2, subsample=0.5 \n",
      "[CV]  colsample_bytree=0.2, eval_metric=auc, gamma=0.05, learning_rate=0.1, max_depth=3, reg_alpha=1.5, reg_lambda=2, subsample=0.5, score=0.829, total=   0.6s\n",
      "[CV] colsample_bytree=0.2, eval_metric=auc, gamma=0.05, learning_rate=0.1, max_depth=3, reg_alpha=1.5, reg_lambda=2, subsample=0.5 \n",
      "[CV]  colsample_bytree=0.2, eval_metric=auc, gamma=0.05, learning_rate=0.1, max_depth=3, reg_alpha=1.5, reg_lambda=2, subsample=0.5, score=0.831, total=   0.8s\n",
      "[CV] colsample_bytree=0.2, eval_metric=auc, gamma=0.05, learning_rate=0.1, max_depth=3, reg_alpha=1.5, reg_lambda=5, subsample=0.5 \n",
      "[CV]  colsample_bytree=0.2, eval_metric=auc, gamma=0.05, learning_rate=0.1, max_depth=3, reg_alpha=1.5, reg_lambda=5, subsample=0.5, score=0.853, total=   0.5s\n",
      "[CV] colsample_bytree=0.2, eval_metric=auc, gamma=0.05, learning_rate=0.1, max_depth=3, reg_alpha=1.5, reg_lambda=5, subsample=0.5 \n",
      "[CV]  colsample_bytree=0.2, eval_metric=auc, gamma=0.05, learning_rate=0.1, max_depth=3, reg_alpha=1.5, reg_lambda=5, subsample=0.5, score=0.826, total=   0.6s\n",
      "[CV] colsample_bytree=0.2, eval_metric=auc, gamma=0.05, learning_rate=0.1, max_depth=3, reg_alpha=1.5, reg_lambda=5, subsample=0.5 \n",
      "[CV]  colsample_bytree=0.2, eval_metric=auc, gamma=0.05, learning_rate=0.1, max_depth=3, reg_alpha=1.5, reg_lambda=5, subsample=0.5, score=0.827, total=   0.5s\n"
     ]
    },
    {
     "name": "stderr",
     "output_type": "stream",
     "text": [
      "[Parallel(n_jobs=1)]: Done  81 out of  81 | elapsed:   44.3s finished\n"
     ]
    },
    {
     "name": "stdout",
     "output_type": "stream",
     "text": [
      "Train AUC Score: 0.8453\n",
      "Using the following parameters: {'colsample_bytree': 0.2, 'eval_metric': 'auc', 'gamma': 0.03, 'learning_rate': 0.1, 'max_depth': 3, 'reg_alpha': 0, 'reg_lambda': 1, 'subsample': 0.5}\n",
      "\n",
      "\n"
     ]
    }
   ],
   "source": [
    "grid_search(clf_xgc, param_grid_xgc)"
   ]
  },
  {
   "cell_type": "code",
   "execution_count": 288,
   "metadata": {},
   "outputs": [],
   "source": [
    "clf_xgc_best = xgb.XGBClassifier(random_state = 0,\n",
    "                                 colsample_bytree=0.2,\n",
    "                                 eval_metric='auc',\n",
    "                                 gamma=0.03,\n",
    "                                 learning_rate=0.1,\n",
    "                                 max_depth=3,\n",
    "                                 reg_alpha=0,\n",
    "                                 reg_lambda=1,\n",
    "                                 subsample=0.5)"
   ]
  },
  {
   "cell_type": "code",
   "execution_count": 289,
   "metadata": {},
   "outputs": [
    {
     "name": "stdout",
     "output_type": "stream",
     "text": [
      "[0.8707065  0.8336572  0.8345167  0.83932137 0.84443121]\n",
      "AUC Mean Score 84.45 +/- 1.36\n"
     ]
    }
   ],
   "source": [
    "crossvalscore(clf_xgc_best)"
   ]
  },
  {
   "cell_type": "markdown",
   "metadata": {},
   "source": [
    "### Learning Algorithm Selection"
   ]
  },
  {
   "cell_type": "markdown",
   "metadata": {},
   "source": [
    "- Logistic Regression ROC_AUC Mean Score(std): `71.78 +/- 1.94`\n",
    "- K Nearest Neighbor ROC_AUC Mean Score(std): `73.49 +/- 3.51`\n",
    "- Random Forest ROC_AUC Mean Score(std): `84.48 +/- 1.41`\n",
    "- Support Vector Classification ROC_AUC Mean Score(std): `80.19 +/- 2.35`\n",
    "- XGBoost ROC_AUC Mean Score(std): `84.45 +/- 1.36`\n",
    "\n",
    "Using `GridSearchCV` followed by `cross_val_score` we were able to tune the respective classifier with the optimised hyperparameters and then check if the learning algorithm is capable of yielding high mean score and low variances as we would want the selected learning algorithm to be capable of producing similar performance on unseen data. In this case it will be the test set provided by kaggle. \n",
    "\n",
    "By comparing the above scores, the final learning algorithm that is choosen is XGBoost. Using the best parameters selected are `colsample_bytree = 0.2`, `gamma = 0.03`, `learning_rate = 0.1`, `max_depth = 3`, `reg_alpha = 0`, `reg_lambda = 1`, `subsample = 0.5`."
   ]
  },
  {
   "cell_type": "code",
   "execution_count": 22,
   "metadata": {},
   "outputs": [
    {
     "name": "stdout",
     "output_type": "stream",
     "text": [
      "Training ROC AUC: 88.70\n",
      "Test ROC AUC: 85.11\n"
     ]
    }
   ],
   "source": [
    "# using the selected learning algorithm with best parameters\n",
    "best_algo = xgb.XGBClassifier(random_state = 0,\n",
    "                              colsample_bytree=0.2,\n",
    "                              eval_metric='auc',\n",
    "                              gamma=0.03,\n",
    "                              learning_rate=0.1,\n",
    "                              max_depth=3,\n",
    "                              reg_alpha=0,\n",
    "                              reg_lambda=1,\n",
    "                              subsample=0.5)\n",
    "\n",
    "# fit it and get the train & test roc_auc_score\n",
    "best_algo.fit(X_train, y_train)\n",
    "train_auc = roc_auc_score(y_true=y_train, y_score=best_algo.predict_proba(X_train)[:,1])\n",
    "test_auc = roc_auc_score(y_true=y_test, y_score=best_algo.predict_proba(X_test)[:,1])\n",
    "\n",
    "# print out the scores\n",
    "print(f'Training ROC AUC: {100*train_auc:.2f}')\n",
    "print(f'Test ROC AUC: {100*test_auc:.2f}')"
   ]
  },
  {
   "cell_type": "code",
   "execution_count": 28,
   "metadata": {},
   "outputs": [],
   "source": [
    "features = pd.DataFrame(list(zip(X_train.columns, best_algo.feature_importances_))\n",
    "                        , columns=['feature','importance']) "
   ]
  },
  {
   "cell_type": "code",
   "execution_count": 33,
   "metadata": {},
   "outputs": [],
   "source": [
    "features_10 = features.sort_values('importance', axis=0, ascending=False)[:10]"
   ]
  },
  {
   "cell_type": "code",
   "execution_count": 63,
   "metadata": {},
   "outputs": [
    {
     "data": {
      "image/png": "[encoded data removed]",
      "text/plain": [
       "<Figure size 720x504 with 1 Axes>"
      ]
     },
     "metadata": {
      "needs_background": "light"
     },
     "output_type": "display_data"
    }
   ],
   "source": [
    "features_10.plot(kind='barh', x='feature', y='importance', figsize = (10, 7));"
   ]
  },
  {
   "cell_type": "code",
   "execution_count": 23,
   "metadata": {},
   "outputs": [
    {
     "data": {
      "text/html": [
       "<div>\n",
       "<style scoped>\n",
       "    .dataframe tbody tr th:only-of-type {\n",
       "        vertical-align: middle;\n",
       "    }\n",
       "\n",
       "    .dataframe tbody tr th {\n",
       "        vertical-align: top;\n",
       "    }\n",
       "\n",
       "    .dataframe thead th {\n",
       "        text-align: right;\n",
       "    }\n",
       "</style>\n",
       "<table border=\"1\" class=\"dataframe\">\n",
       "  <thead>\n",
       "    <tr style=\"text-align: right;\">\n",
       "      <th></th>\n",
       "      <th>true_values</th>\n",
       "      <th>pred_probs</th>\n",
       "    </tr>\n",
       "  </thead>\n",
       "  <tbody>\n",
       "    <tr>\n",
       "      <th>3188</th>\n",
       "      <td>1</td>\n",
       "      <td>0.232798</td>\n",
       "    </tr>\n",
       "    <tr>\n",
       "      <th>6312</th>\n",
       "      <td>0</td>\n",
       "      <td>0.008018</td>\n",
       "    </tr>\n",
       "    <tr>\n",
       "      <th>10894</th>\n",
       "      <td>0</td>\n",
       "      <td>0.022125</td>\n",
       "    </tr>\n",
       "    <tr>\n",
       "      <th>13920</th>\n",
       "      <td>0</td>\n",
       "      <td>0.018032</td>\n",
       "    </tr>\n",
       "    <tr>\n",
       "      <th>5454</th>\n",
       "      <td>0</td>\n",
       "      <td>0.018582</td>\n",
       "    </tr>\n",
       "  </tbody>\n",
       "</table>\n",
       "</div>"
      ],
      "text/plain": [
       "       true_values  pred_probs\n",
       "3188             1    0.232798\n",
       "6312             0    0.008018\n",
       "10894            0    0.022125\n",
       "13920            0    0.018032\n",
       "5454             0    0.018582"
      ]
     },
     "execution_count": 23,
     "metadata": {},
     "output_type": "execute_result"
    }
   ],
   "source": [
    "# sort the predict probability and the actual values in to a dataframe\n",
    "pred_proba = [i[1] for i in best_algo.predict_proba(X_test)]\n",
    "pred_df = pd.DataFrame({'true_values': y_test,\n",
    "                        'pred_probs':pred_proba})\n",
    "pred_df.head()"
   ]
  },
  {
   "cell_type": "code",
   "execution_count": 260,
   "metadata": {},
   "outputs": [
    {
     "data": {
      "image/png": "[encoded data removed]",
      "text/plain": [
       "<Figure size 720x504 with 1 Axes>"
      ]
     },
     "metadata": {
      "needs_background": "light"
     },
     "output_type": "display_data"
    }
   ],
   "source": [
    "# Create figure for distribution graph\n",
    "plt.figure(figsize = (10, 7))\n",
    "\n",
    "# Creating two histograms of observations, with blue (WnvPresent = 0) \n",
    "plt.hist(pred_df[pred_df['true_values'] == 0]['pred_probs'],\n",
    "         bins=25,\n",
    "         color='b',\n",
    "         alpha = 0.6,\n",
    "         label='Outcome = 0 (No Wnv)')\n",
    "\n",
    "# Yellow (WnvPresent = 1)\n",
    "plt.hist(pred_df[pred_df['true_values'] == 1]['pred_probs'],\n",
    "         bins=25,\n",
    "         color='orange',\n",
    "         alpha = 0.6,\n",
    "         label='Outcome = 1 (Wnv)')\n",
    "\n",
    "# Labeling of axes.\n",
    "plt.title('Distribution of P(Outcome = 1)', fontsize=20)\n",
    "plt.ylabel('Frequency', fontsize=18)\n",
    "plt.xlabel('Predicted Probability that Outcome = 1', fontsize=18)\n",
    "\n",
    "# Creating of legends\n",
    "plt.legend(fontsize=20);"
   ]
  },
  {
   "cell_type": "code",
   "execution_count": 294,
   "metadata": {},
   "outputs": [
    {
     "data": {
      "image/png": "[encoded data removed]",
      "text/plain": [
       "<Figure size 720x504 with 1 Axes>"
      ]
     },
     "metadata": {
      "needs_background": "light"
     },
     "output_type": "display_data"
    }
   ],
   "source": [
    "# with reference to https://stackoverflow.com/questions/25009284/how-to-plot-roc-curve-in-python\n",
    "fpr, tpr, threshold = roc_curve(pred_df['true_values'], pred_df['pred_probs'])\n",
    "roc_auc = auc(fpr, tpr)\n",
    "\n",
    "plt.figure(figsize=(10, 7))\n",
    "plt.title('ROC Curve', fontsize = 20)\n",
    "plt.plot(fpr, tpr, label = 'AUC = %0.4f' % roc_auc)\n",
    "plt.legend(loc = 'lower right', fontsize = 'large')\n",
    "plt.plot([0, 1], [0, 1],'r--')\n",
    "plt.ylabel('True Positive Rate', fontsize = 15)\n",
    "plt.xlabel('False Positive Rate', fontsize = 15)\n",
    "plt.show()"
   ]
  },
  {
   "cell_type": "markdown",
   "metadata": {},
   "source": [
    "Our final choosen model achieves an ROC_AUC_Score of `0.8511` based on our test data. This score, unsurprisingly, does not outperform the baseline score of 0.948, which is artificially high due to the disproportionate presence of `WnvPresent=1` data. As mentioned in the beginning of the project, merely achieving a high score to beat the baseline score is not the sole objective of this project. The model is expected to improve if more data is added to our training set.\n",
    "\n",
    "We then plotted the top 10 most importance features in our model, the distribution of predicted probability as well as the ROC Curve to visualise the results of the model. \n",
    "\n",
    "The top 10 features are as we expected as during our EDA we were able to observe that West Nile Virus are more favourable in hot and dry conditions. Hence, features that embodies seasonlity like weather, year/month, as well as species and trap would help to predict and inform if West Nile Virus is present or absent.\n",
    "\n",
    "The distribution plot shows us the predicted probability distribution for both classes `1` and `0`. The model is likely to accurately predict class `0` as the distribution is skewed highly towards the right. Given that most predictions should be class `0`, this is unsurprising. \n",
    "\n",
    "The ROC Curve allows us to summarize the trade-off between the true positive rate and false positive rate for a predictive model using different classification thresholds. The curve looks indicative of our score of 0.8511 which as mentioned, is unlikely to beat the baseline score of normalised counts."
   ]
  },
  {
   "cell_type": "markdown",
   "metadata": {},
   "source": [
    "### Final Model  \n",
    "\n",
    "We now proceed to train the entire train.csv with our choosen learning algorithm and roll it out for production (in this case testing on unseen data on test.csv)"
   ]
  },
  {
   "cell_type": "code",
   "execution_count": 299,
   "metadata": {},
   "outputs": [],
   "source": [
    "# combine both train test split to do a final train and then evaluate against kaggle and check score!\n",
    "# final model for kaggle prediction\n",
    "X_final, y_final = df_train_final.drop(columns='WnvPresent', axis=1), df_train_final['WnvPresent']"
   ]
  },
  {
   "cell_type": "code",
   "execution_count": 300,
   "metadata": {},
   "outputs": [
    {
     "data": {
      "text/plain": [
       "XGBClassifier(base_score=0.5, booster='gbtree', colsample_bylevel=1,\n",
       "              colsample_bynode=1, colsample_bytree=0.2, eval_metric='auc',\n",
       "              gamma=0.03, gpu_id=-1, importance_type='gain',\n",
       "              interaction_constraints='', learning_rate=0.1, max_delta_step=0,\n",
       "              max_depth=3, min_child_weight=1, missing=nan,\n",
       "              monotone_constraints='()', n_estimators=100, n_jobs=0,\n",
       "              num_parallel_tree=1, random_state=0, reg_alpha=0, reg_lambda=1,\n",
       "              scale_pos_weight=1, subsample=0.5, tree_method='exact',\n",
       "              validate_parameters=1, verbosity=None)"
      ]
     },
     "execution_count": 300,
     "metadata": {},
     "output_type": "execute_result"
    }
   ],
   "source": [
    "best_algo.fit(X_final, y_final)"
   ]
  },
  {
   "cell_type": "code",
   "execution_count": 301,
   "metadata": {},
   "outputs": [],
   "source": [
    "final_auc = roc_auc_score(y_true=y_final, y_score=best_algo.predict_proba(X_final)[:,1])"
   ]
  },
  {
   "cell_type": "code",
   "execution_count": 302,
   "metadata": {},
   "outputs": [
    {
     "data": {
      "text/plain": [
       "0.8834014332085411"
      ]
     },
     "execution_count": 302,
     "metadata": {},
     "output_type": "execute_result"
    }
   ],
   "source": [
    "final_auc"
   ]
  },
  {
   "cell_type": "markdown",
   "metadata": {},
   "source": [
    "### Kaggle Submission"
   ]
  },
  {
   "cell_type": "code",
   "execution_count": 304,
   "metadata": {},
   "outputs": [],
   "source": [
    "# kaggle (test.csv) predictions using our final production model\n",
    "kaggle_preds = best_algo.predict_proba(df_prediction_final)[:,1]\n",
    "\n",
    "# we read in the processed_test.csv since we need the Id columns as this was dropped at the start of the notebook\n",
    "processed_test = pd.read_csv('../assets/processed_test.csv')\n",
    "processed_test = processed_test[processed_test['Station'] != 2] # remove 'Station' = 2\n",
    "\n",
    "# output file inline with kaggle submissions format\n",
    "output_file = pd.DataFrame({'Id': processed_test.Id, 'WnvPresent': kaggle_preds})\n",
    "\n",
    "# save the csv\n",
    "output_file.to_csv('../assets/kaggle_submissions_xgboost.csv', index=False)"
   ]
  },
  {
   "cell_type": "markdown",
   "metadata": {},
   "source": [
    "<img src=\"../assets/kaggle_score.jpg\"/>"
   ]
  },
  {
   "cell_type": "markdown",
   "metadata": {},
   "source": [
    "## Cost-Benefit Analysis of Spray operations"
   ]
  },
  {
   "cell_type": "markdown",
   "metadata": {},
   "source": [
    "### Cost of spraying operations\n",
    "\n",
    "The city of Chicago started <a href = \"https://chicago.cbslocal.com/2017/08/30/spray-mosquitoes-far-south-side-west-nile-prevention/\"> spraying operations </a> for the first time in the first week of September 2017 in areas of the Pullman and South Deering neighborhoods. The operation starts at dusk (around 6.49 pm according to the weather dataset) and lasts till 1 a.m, making it an average of about 5 hours of spraying. The spraying is done by licensed mosquito abatement technicians in trucks dispensing an ultra-low-volume spray. The main chemical used is <a href = \"https://www.cmmcp.org/pesticide-information/pages/zenivex-e4-etofenprox\">Zenivex™ E4 </a>, which is  4% solution of a chemical known as Etofenprox, a reduced risk synthetic pyrethroid with an extremely low toxicity to mammals. It is sprayed from a truck at 4.5-9.0 ounces per minute, at a vehicle speed of 10-15 mph (16 to 24 kmh). The cost of Zenivex™ E4 is about USD \\$80 per gallon according to <a href = \"http://www.gfmosquito.com/wp-content/uploads/2013/06/2013-North-Dakota-Bid-Tabulation.pdf\"> tender information in North Dakota </a>.\n",
    "\n",
    "<img src=\"http://www.meepi.org/wnv/graphics/trucksprayjpg.jpg\" alt=\"ULV Sprayer in the City of Chicago\" width=\"400\">\n",
    "\n",
    "Assuming each truck travels at the lowest speed of 16 kmh, a single truck can spray approximately (16 km $\\times$ 0.003 km $\\times$ 5 hours) in a single night, covering 0.24 km<sup>2</sup>. If each truck were to spray an average of 6.75 ounces (0.05 gallon) per minute. Each truck would spray 3 gallons of Zenivex™ E4 per hour and hence 15 gallons a night. The total cost of Zenivex™ E4 for a truck for a night would hence be USD 80 per gallon $\\times$ 15 gallons = **USD 1,200** covering **0.24 km<sup>2</sup>**. The cost to spray **1 km<sup>2</sup>** will be approximately **USD 5,000**.\n",
    "\n",
    "If each truck were to travel at the highest speed of 24 kmh, a single truck can spray approximately (24 km $\\times$ 0.003 km $\\times$ 5 hours) in a single night, covering 0.36 km<sup>2</sup>. Assuming the cost for Zenivex™ E4 per truck for the entire night is the same as above, we would spend **USD 1,200** covering 0.36 km<sup>2</sup> per truck. The cost to spray **1 km<sup>2</sup>** will be approximately **USD 3,333**.\n",
    "\n",
    "Considering the city of Chicago has a total areas of 606.1 km<sup>2</sup> of which an estimated 50 \\% is built-up area that is driveable, it would cost between **USD 1.21 - USD 1.82 million** to cover the entire city assuming that we incure a fixed cost premium of 20 \\% for the operation of trucks and fuel costs and worker salaries are with almost no wastage of chemicals. \n",
    "\n",
    "\n"
   ]
  },
  {
   "cell_type": "markdown",
   "metadata": {},
   "source": [
    "### Benefits of spraying operations\n",
    "\n",
    "There are multiple benefits from a reduced mosquito population as a result of spraying. These include an increased quality of life from fewer people falling sick and dying, increased workplace productivity from fewer people falling ill and going on medical leave, as well as savings in hospital expenses from treating WNV patients. Of these, only the latter two are measurable.\n",
    "\n",
    "About 1 in 5 people infected with WNV develop the highly incapacitative <a href = \"https://www.uptodate.com/contents/west-nile-virus-infection-beyond-the-basics\">West Nile fever </a> with other symptoms such as headache, body aches, joint pains, vomiting, etc. Recovery from West Nile fever takes from a few days to several weeks, and prolonged fatigue is common.\n",
    "\n",
    "About 1 in 150 people infected develop severe neuroinvasive diseases such as encephalitis or meningitis, in which the virus travels through the blood and infects the brain and spinal cord. Recovery is prolonged and less than 40% of patients with the severe diseases recover after one year.\n",
    "\n",
    "Given that the <a href=\"https://datausa.io/profile/geo/chicago-il/\">median household income</a> in Chicago was \\\\$55,295 (as of 2017), one can estimate the amount of losses the city will face from a workforce affected by WNV. \n",
    "\n",
    "In 2017, there were <a href=\"https://chicago.cbslocal.com/2018/08/29/west-nile-virus-death-reported-in-illinois/\"> 90 WNV cases, including 8 deaths </a>. This means that approximately 18 people developed West Nile fever. Assuming all were working adults and each took two weeks off work to recover, this would have resulted in a total income loss of \\\\$38,281 in total. On average, each WNV patient spends approximately \\\\$25,000 in the hospital. Therefore the total monetary loss caused by WNV in 2017 is approximately **\\\\$488,281**."
   ]
  },
  {
   "cell_type": "markdown",
   "metadata": {},
   "source": [
    "## Summary and Recommendations\n",
    "\n",
    "---\n",
    "\n",
    "Using XGBoost (our best performing model), we achieved an ROC_AUC of **0.8511**.\n",
    "\n",
    "Examination of the the total costs of spraying the whole of Chicago compared against the benefits show that the costs far outweigh the benefits in monetary terms. At best, accounting for inflation or even a pessimistic outcome of having 50% more WNV infections, the total monetary benefit to Chicago as a society may only be 16%-25% of the total cost of spraying.\n",
    "\n",
    "However, our model does not take into account any non-monetary benefits to reducing the mosquito population. These include the emotional costs from loss of life, the reduction in the need for enhanced testing for suspected WNV cases and public confidence in the government.\n",
    "\n",
    "From previous geospatial analysis of spray data, there is a distinct lack of evidence to support the claim that mosquito spraying had any effect on the reduction of WNV-infected mosquitos. Furthermore, the spray data pointed towards highly fragmented and haphazardous spraying operations that did not seem to be driven by the evidence if the presence and severity of WNV mosquito infestations. Traps such as the T900 trap at O'Hare International airport which proved to capture the most WNV-infected mosquitos by far were not sprayed. \n",
    "\n",
    "Given the high costs required to conduct spraying operations, we hence recommend the following action points:\n",
    "\n",
    "1. Re-examine the effectiveness of spraying Zenivex™ E4 as a means to control the mosquito population. Evidence points towards the ineffectiveness of the chemical and it is likely that other kinds of non-toxic mosquito sprays should be explored.\n",
    "\n",
    "\n",
    "2. Re-direct mosquito spraying operations in a more organised and evidence-driven manner whereby severe hotspots such as O'Hare International Airport are sprayed first at the beginning of summer in order to prevent large populations of mosquitos forming. In addition, spraying operations should be accurately logged and routes planned to make sure mosquito breeding sites are properly covered.\n",
    "\n",
    "\n",
    "3. Examine new ways of controlling the mosquito population that may arguably cost less than spraying the whole of Chicago. Innovative ways of doing so may include 'anti-mosquito' campaigns done in places such as Singapore or encouraging citizens of Chicago to get rid of stagnant water sources."
   ]
  }
 ],
 "metadata": {
  "kernelspec": {
   "display_name": "Python 3",
   "language": "python",
   "name": "python3"
  },
  "language_info": {
   "codemirror_mode": {
    "name": "ipython",
    "version": 3
   },
   "file_extension": ".py",
   "mimetype": "text/x-python",
   "name": "python",
   "nbconvert_exporter": "python",
   "pygments_lexer": "ipython3",
   "version": "3.7.6"
  }
 },
 "nbformat": 4,
 "nbformat_minor": 4
}
